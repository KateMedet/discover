{
 "cells": [
  {
   "cell_type": "markdown",
   "metadata": {},
   "source": [
    "<div>\n",
    "    <img src=\"../media/header_banner.jpg\" width=450 height=338/>\n",
    "    <br/>\n",
    "    <table style='border-collapse: collapse'>\n",
    "      <tr style='background-color: white;'>\n",
    "          <td><img src=\"../media/header_logo_1.png\" width=150 height=200></td>\n",
    "          <td><img src=\"../media/header_logo_2.png\" width=150 height=200></td>\n",
    "          <td><img src=\"../media/header_logo_3.png\" width=150 height=200></td>\n",
    "          <td><img src=\"../media/header_logo_4.png\" width=150 height=200></td>\n",
    "      </tr>\n",
    "    </table>\n",
    "</div>"
   ]
  },
  {
   "cell_type": "markdown",
   "metadata": {},
   "source": [
    "<hr style=\"border: none; border-top: 3px solid #db0606;\">\n",
    "<h1 align=\"center\">DiSCovERing innovative therapies for rare tumors: Overview</h1> \n",
    "<h3 align=\"cnter\"> </h3>\n",
    "\n",
    "__Authors:__ \n",
    "Allison Rose Hanaford - *Johns Hopkins University School of Medicine, Baltimore, MD*      \n",
    "&nbsp;&nbsp;&nbsp;&nbsp;&nbsp;&nbsp;&nbsp;&nbsp;&nbsp;&nbsp;&nbsp;&nbsp;&nbsp;&nbsp;&nbsp;&nbsp;\n",
    "Tenley C. Archer - *Boston Children's Hospital, Boston, MA*              \n",
    "&nbsp;&nbsp;&nbsp;&nbsp;&nbsp;&nbsp;&nbsp;&nbsp;&nbsp;&nbsp;&nbsp;&nbsp;&nbsp;&nbsp;&nbsp;&nbsp;\n",
    "Antoinette Price - *Johns Hopkins University School of Medicine, Baltimore, MD*                                                                             \n",
    "&nbsp;&nbsp;&nbsp;&nbsp;&nbsp;&nbsp;&nbsp;&nbsp;&nbsp;&nbsp;&nbsp;&nbsp;&nbsp;&nbsp;&nbsp;&nbsp;\n",
    "Ulf Kahlert - *University Medical Center Düsseldorf, Dusseldorf, Germany*                                                                                   \n",
    "&nbsp;&nbsp;&nbsp;&nbsp;&nbsp;&nbsp;&nbsp;&nbsp;&nbsp;&nbsp;&nbsp;&nbsp;&nbsp;&nbsp;&nbsp;&nbsp;\n",
    "Jarek Maciaczyk - *University Medical Center Düsseldorf, Dusseldorf, Germany*                                                                             \n",
    "&nbsp;&nbsp;&nbsp;&nbsp;&nbsp;&nbsp;&nbsp;&nbsp;&nbsp;&nbsp;&nbsp;&nbsp;&nbsp;&nbsp;&nbsp;&nbsp;\n",
    "Nikkhah Guido - *Universitätsklinikum Freiburg, Freiburg, Germany*                                                                                \n",
    "&nbsp;&nbsp;&nbsp;&nbsp;&nbsp;&nbsp;&nbsp;&nbsp;&nbsp;&nbsp;&nbsp;&nbsp;&nbsp;&nbsp;&nbsp;&nbsp;\n",
    "Wlliam Kim - *Broad Institute of MIT and Harvard, Cambridge, MA*                              \n",
    "&nbsp;&nbsp;&nbsp;&nbsp;&nbsp;&nbsp;&nbsp;&nbsp;&nbsp;&nbsp;&nbsp;&nbsp;&nbsp;&nbsp;&nbsp;&nbsp;\n",
    "Tobias Ehrenberger - *Dana-Farber Cancer Institute, Boston, Massachusetts.*                                                                                                \n",
    "&nbsp;&nbsp;&nbsp;&nbsp;&nbsp;&nbsp;&nbsp;&nbsp;&nbsp;&nbsp;&nbsp;&nbsp;&nbsp;&nbsp;&nbsp;&nbsp;\n",
    "Paul Clemons - *Broad Institute of MIT and Harvard, Cambridge, MA*                            \n",
    "&nbsp;&nbsp;&nbsp;&nbsp;&nbsp;&nbsp;&nbsp;&nbsp;&nbsp;&nbsp;&nbsp;&nbsp;&nbsp;&nbsp;&nbsp;&nbsp;\n",
    "Vlado Dancik - *Broad Institute of MIT and Harvard, Cambridge, MA*                            \n",
    "&nbsp;&nbsp;&nbsp;&nbsp;&nbsp;&nbsp;&nbsp;&nbsp;&nbsp;&nbsp;&nbsp;&nbsp;&nbsp;&nbsp;&nbsp;&nbsp;\n",
    "Brinton Seashore-Ludlow - *Karolinska Institute, Stockholm, Sweden*                           \n",
    "&nbsp;&nbsp;&nbsp;&nbsp;&nbsp;&nbsp;&nbsp;&nbsp;&nbsp;&nbsp;&nbsp;&nbsp;&nbsp;&nbsp;&nbsp;&nbsp;\n",
    "Vasanthi Viswanathan - *Broad Institute of MIT and Harvard, Cambridge, MA*                    \n",
    "&nbsp;&nbsp;&nbsp;&nbsp;&nbsp;&nbsp;&nbsp;&nbsp;&nbsp;&nbsp;&nbsp;&nbsp;&nbsp;&nbsp;&nbsp;&nbsp;\n",
    "Michelle Stewart - *Broad Institute of MIT and Harvard, Cambridge, MA*                        \n",
    "&nbsp;&nbsp;&nbsp;&nbsp;&nbsp;&nbsp;&nbsp;&nbsp;&nbsp;&nbsp;&nbsp;&nbsp;&nbsp;&nbsp;&nbsp;&nbsp;\n",
    "Matthew Rees - *Broad Institute of MIT and Harvard, Cambridge, MA*                            \n",
    "&nbsp;&nbsp;&nbsp;&nbsp;&nbsp;&nbsp;&nbsp;&nbsp;&nbsp;&nbsp;&nbsp;&nbsp;&nbsp;&nbsp;&nbsp;&nbsp;\n",
    "Alykahn Shamji - *Broad Institute of MIT and Harvard, Cambridge, MA*                          \n",
    "&nbsp;&nbsp;&nbsp;&nbsp;&nbsp;&nbsp;&nbsp;&nbsp;&nbsp;&nbsp;&nbsp;&nbsp;&nbsp;&nbsp;&nbsp;&nbsp;\n",
    "William Hahn - *Broad Institute of MIT and Harvard, Cambridge, MA*                            \n",
    "&nbsp;&nbsp;&nbsp;&nbsp;&nbsp;&nbsp;&nbsp;&nbsp;&nbsp;&nbsp;&nbsp;&nbsp;&nbsp;&nbsp;&nbsp;&nbsp;\n",
    "Stuart Schreiber - *Broad Institute of MIT and Harvard, Cambridge, MA*                        \n",
    "&nbsp;&nbsp;&nbsp;&nbsp;&nbsp;&nbsp;&nbsp;&nbsp;&nbsp;&nbsp;&nbsp;&nbsp;&nbsp;&nbsp;&nbsp;&nbsp;\n",
    "Ernest Fraenkel - *MIT, Cambridge, MA*                                                        \n",
    "&nbsp;&nbsp;&nbsp;&nbsp;&nbsp;&nbsp;&nbsp;&nbsp;&nbsp;&nbsp;&nbsp;&nbsp;&nbsp;&nbsp;&nbsp;&nbsp;\n",
    "Scott Pomeroy - *Boston Children's Hospital, Boston, MA*                                      \n",
    "&nbsp;&nbsp;&nbsp;&nbsp;&nbsp;&nbsp;&nbsp;&nbsp;&nbsp;&nbsp;&nbsp;&nbsp;&nbsp;&nbsp;&nbsp;&nbsp;\n",
    "Jill Mesirov - *University of California San Diego, San Diego, CA*                             \n",
    "&nbsp;&nbsp;&nbsp;&nbsp;&nbsp;&nbsp;&nbsp;&nbsp;&nbsp;&nbsp;&nbsp;&nbsp;&nbsp;&nbsp;&nbsp;&nbsp;\n",
    "Pablo Tamayo - *University of California San Diego, San Diego, CA*                             \n",
    "&nbsp;&nbsp;&nbsp;&nbsp;&nbsp;&nbsp;&nbsp;&nbsp;&nbsp;&nbsp;&nbsp;&nbsp;&nbsp;&nbsp;&nbsp;&nbsp;\n",
    "Charles G. Eberhart - *Johns Hopkins University School of Medicine, Baltimore, MD*             \n",
    "&nbsp;&nbsp;&nbsp;&nbsp;&nbsp;&nbsp;&nbsp;&nbsp;&nbsp;&nbsp;&nbsp;&nbsp;&nbsp;&nbsp;&nbsp;&nbsp;\n",
    "Eric H. Raabe - *Johns Hopkins University School of Medicine, Baltimore, MD*\n",
    "\n",
    "__Date:__ 15 July 2016\n",
    "\n",
    "__Article:__ [DiSCoVERing innovative therapies for rare tumors: Combining genetically accurate disease models with advanced in silico analysis to identify novel therapeutic targets](http://clincancerres.aacrjournals.org/content/22/15/3903)\n",
    "\n",
    "\n",
    "__Absract:__   \n",
    "The lack of genetically accurate models that recapitulate the genetics of human tumors hampers the development of new treatments for rare tumor types. One strategy to create an accurate model would be to use stem cells from a cancer's tissue of origin and add key oncogenic driver elements in combinations that are seen in tumors. These elements should also drive oncogenic transformation relevant to that particular tumor type. To validate this strategy, we used human neural stem and progenitor cells derived from the cerebellar anlage to develop a model of Group 3 MYC-driven medulloblastoma, a rare and frequently fatal pediatric brain tumor. The cells were transduced with c-MYC, dominant-negative p53, constitutively active AKT and hTERT, key oncogenic driver elements associated with aggressive medulloblastoma and injected into moice as orthotopic xerographs. These cells formed tumors in the brains of mice and resulted in decreased survival to a median of 117 days. These tumors histologically, pathologically, and genetically resembled the MYC-driven Group 3 medulloblastoma tumors. In contrast, human neural stem cells immortalized with SV40 did not form tumors in mice. To facilitate rapid screening of a large number of available drugs, we developed an in silico analysis technique, DiSCoVER (Disease-model Signature vs. Compound-Variety Enriched Response) that uses the expression profile of the human neural stem cell models and existing drug sensitivity databases to identify novel therapeutic targets. The DiSCoVER analysis predicted aggressive medulloblastoma would be sensitive to CDK inhibitors. Among the top hits were the CDK4/6 inhibitor palbociclib. Indeed, treatment of Palbociclib in human neural stem cell medulloblastoma model and high-serum medulloblastoma cell lines led to decreased proliferation by an average of 62% as measured by MTS assay compared to vehicle control (p<0.01). Palbociclib treatment also increased the percentage of apoptotic cells by an average of 150% as measured by cleaved caspase-3 immunofluorescence and cleaved-PARP western blot compared to vehicle control (p< 0.04). Treatment with palbociclib significantly extended the survival of mice with orthotopic medulloblastoma xenografts (p = 0.003). We validated our human neural stem cell model of Group 3 medulloblastoma and show that this model, as well as patient-derived high MYC medulloblastoma models, are sensitive to CDK4/6 inhibition in vitro and in vivo. Our results strongly suggest that Palbociclib can be an effective treatment for poor-prognosis MYC-driven medulloblastomas in carefully selected patients (Group 3/C1). In summary, we have presented here a new method of generating genetically accurate models for rare tumors using region-specific human stem and progenitor cells and a novel analysis technique to find therapeutics to target them.\n",
    "\n",
    "<div>\n",
    "    <img src=\"../media/supplementary_fig_1.png\" width=800 height=800>\n",
    "</div>"
   ]
  },
  {
   "cell_type": "markdown",
   "metadata": {},
   "source": [
    "<hr style=\"border: none; border-bottom: 3px solid #db0606;\">\n",
    "## 1. Set up notebook and import Computational Cancer Analysis Library ([CCAL](https://github.com/KwatME/ccal))"
   ]
  },
  {
   "cell_type": "code",
   "execution_count": null,
   "metadata": {
    "collapsed": false
   },
   "outputs": [],
   "source": [
    "# TODO: manager executes these set-up commands\n",
    "from environment import *\n",
    "\n",
    "%matplotlib inline\n",
    "%load_ext autoreload\n",
    "%autoreload 2"
   ]
  },
  {
   "cell_type": "markdown",
   "metadata": {},
   "source": [
    "<hr style=\"border: none; border-top: 3px solid #db0606;\">\n",
    "## 2. Set input and result files/directories\n",
    "These are the files where the input expression data and the output signature files are stored\n",
    "### 2.1 Set data filepaths\n",
    "Here the filepaths to the signature files are set."
   ]
  },
  {
   "cell_type": "code",
   "execution_count": null,
   "metadata": {
    "collapsed": true
   },
   "outputs": [],
   "source": [
    "ccle_signatures_file = join(DIR_DATA, 'CCLE_Expression_Entrez_2012-04-06_plus_Achilles.SELECTED_TISSUES_PATHWAYS.gct')\n",
    "sanger_signatures_file = join(DIR_DATA, 'Sanger_Expression.out.SELECTED_TISSUES_PATHWAYS.gct')"
   ]
  },
  {
   "cell_type": "markdown",
   "metadata": {},
   "source": [
    "Here the filepaths to the drug sensitivity files are set."
   ]
  },
  {
   "cell_type": "code",
   "execution_count": null,
   "metadata": {
    "collapsed": true
   },
   "outputs": [],
   "source": [
    "ccle_drug_file = join(DIR_DATA, 'CCLE_Drug_Sensitivity.gct')\n",
    "ctrp_drug_file = join(DIR_DATA, 'CTRPv2.2_2015_pub.gct')\n",
    "sanger_drug_file = join(DIR_DATA, 'drug_sensitivity.out.SELECTED.gct')"
   ]
  },
  {
   "cell_type": "markdown",
   "metadata": {},
   "source": [
    "<hr style=\"border: none; border-bottom: 1px solid #db0606;\">\n",
    "### 2.2 Load data files"
   ]
  },
  {
   "cell_type": "markdown",
   "metadata": {},
   "source": [
    "Here the signature data is loaded and the hNSC signatures with 150 of the most up-regulated genes are selected from the signature data."
   ]
  },
  {
   "cell_type": "code",
   "execution_count": null,
   "metadata": {
    "collapsed": false
   },
   "outputs": [],
   "source": [
    "ccle_signatures = ccal.read_gct(ccle_signatures_file)\n",
    "ccle_hNSC_G3_150_UP = ccle_signatures.ix['hNSC_G3_150_UP']\n",
    "sanger_signatures = ccal.read_gct(sanger_signatures_file)\n",
    "sanger_hNSC_G3_150_UP = sanger_signatures.ix['hNSC_G3_150_UP']"
   ]
  },
  {
   "cell_type": "markdown",
   "metadata": {},
   "source": [
    "Here the drug sensitivity data is loaded."
   ]
  },
  {
   "cell_type": "code",
   "execution_count": null,
   "metadata": {
    "collapsed": true
   },
   "outputs": [],
   "source": [
    "ccle_drug_sensitivity = ccal.read_gct(ccle_drug_file)\n",
    "ctrp_drug_sensitivity = ccal.read_gct(ctrp_drug_file)\n",
    "sanger_drug_sensitivity = ccal.read_gct(sanger_drug_file)"
   ]
  },
  {
   "cell_type": "markdown",
   "metadata": {},
   "source": [
    "<hr style=\"border: none; border-top: 3px solid #db0606;\">\n",
    "## 3. Compare medulloblastoma expressional signatures to drug sensitivity data \n",
    "The three comparisons noted in supplementary figure 1, shown above, are performed below.\n",
    "### 3.1 Compare Sanger hNSC signature to Sanger drug sensitivity\n",
    "Below an association panel of the top drugs most and least associated with the hNSC signature are shown."
   ]
  },
  {
   "cell_type": "code",
   "execution_count": null,
   "metadata": {
    "collapsed": true
   },
   "outputs": [],
   "source": [
    "sanger_sanger_results = join(DIR_RESULT, 'sanger_sig_sanger_drug')"
   ]
  },
  {
   "cell_type": "code",
   "execution_count": null,
   "metadata": {
    "collapsed": false,
    "scrolled": false
   },
   "outputs": [],
   "source": [
    "%%HTML\n",
    "<!--!AUTO_EXEC-->\n",
    "<paper-material elevation=\"2\" class=\"task-widget\"><paper-collapse-item class=\"task-widget-inner\" header=\"<h1>Make Association Panel</h1>\" opened=\"True\"><div class=\"widget-panel widget-panel-left\"><form is=\"iron-form\" class=\"task-widget-form\"><div class=\"form-group-wrapper\"><paper-collapse-item class=\"field-group field-required_args-group\" header=\"Input\" opened=\"True\"><paper-input label=\"target\" name=\"required_args\" required=\"required\" value=\"sanger_hNSC_G3_150_UP\" auto-validate=\"\" error-message=\"Required!\"></paper-input><paper-input label=\"features\" name=\"required_args\" required=\"required\" value=\"sanger_drug_sensitivity\" auto-validate=\"\" error-message=\"Required!\"></paper-input></paper-collapse-item></div><div class=\"form-group-wrapper\"><paper-collapse-item class=\"field-group field-optional_args-group\" header=\"Optional Input\"><paper-input label=\"n_permutations\" name=\"optional_args\" required=\"required\" value=\"50\"></paper-input><paper-input label=\"max_n_features\" name=\"optional_args\" required=\"required\" value=\"30\"></paper-input><paper-input label=\"features_ascending\" name=\"optional_args\" required=\"required\" value=\"True\"></paper-input><paper-input label=\"n_jobs\" name=\"optional_args\" required=\"required\" value=\"1\"></paper-input><paper-input label=\"n_features\" name=\"optional_args\" required=\"required\" value=\".90\"></paper-input><paper-input label=\"filepath_prefix\" name=\"optional_args\" required=\"required\" value=\"sanger_sanger_results\"></paper-input></paper-collapse-item></div><div class=\"form-group-wrapper\"><paper-collapse-item class=\"field-group field-returns-group\" header=\"Output\" opened=\"True\"><paper-input label=\"TODO: get from docstring\" name=\"returns\" required=\"required\" value=\"sanger_sign_sanger_drug\" auto-validate=\"\" error-message=\"Required!\"></paper-input></paper-collapse-item></div><button class=\"form-submit-button-wrapper\"><paper-button class=\"form-submit-button\" raised=\"\">run<iron-icon icon=\"done\"></iron-icon></paper-button></button></form></div><div class=\"widget-panel widget-panel-right\"><div class=\"task-info\">TODO: get from docstring</div><li class=\"item-info\" style=\"display: none;\"><h3>target</h3><p>TODO: get from docstring</p></li><li class=\"item-info\" style=\"display: none;\"><h3>features</h3><p>TODO: get from docstring</p></li><li class=\"item-info\" style=\"display: none;\"><h3>n_permutations</h3><p>TODO: get from docstring</p></li><li class=\"item-info\" style=\"display: none;\"><h3>max_n_features</h3><p>TODO: get from docstring</p></li><li class=\"item-info\" style=\"display: none;\"><h3>features_ascending</h3><p>TODO: get from docstring</p></li><li class=\"item-info\" style=\"display: none;\"><h3>n_jobs</h3><p>TODO: get from docstring</p></li><li class=\"item-info\" style=\"display: none;\"><h3>n_features</h3><p>TODO: get from docstring</p></li><li class=\"item-info\" style=\"display: none;\"><h3>filepath_prefix</h3><p>TODO: get from docstring</p></li><li class=\"item-info\" style=\"display: none;\"><h3>TODO: get from docstring</h3><p>TODO: get from docstring</p></li></div></paper-collapse-item></paper-material>\n",
    "<!--{\"Make Association Panel\":{\"optional_args\":[{\"value\":\"50\",\"description\":\"TODO: get from docstring\",\"label\":\"n_permutations\",\"name\":\"n_permutations\"},{\"value\":\"30\",\"description\":\"TODO: get from docstring\",\"label\":\"max_n_features\",\"name\":\"max_n_features\"},{\"value\":\"True\",\"description\":\"TODO: get from docstring\",\"label\":\"features_ascending\",\"name\":\"features_ascending\"},{\"value\":\"1\",\"description\":\"TODO: get from docstring\",\"label\":\"n_jobs\",\"name\":\"n_jobs\"},{\"value\":\".90\",\"description\":\"TODO: get from docstring\",\"label\":\"n_features\",\"name\":\"n_features\"},{\"value\":\"sanger_sanger_results\",\"description\":\"TODO: get from docstring\",\"label\":\"filepath_prefix\",\"name\":\"filepath_prefix\"}],\"returns\":[{\"value\":\"sanger_sign_sanger_drug\",\"description\":\"TODO: get from docstring\",\"label\":\"TODO: get from docstring\"}],\"library_path\":\"/home/cyborg/CompBio/discover/tools/\",\"library_name\":\"ccal.computational_cancer_biology.association\",\"required_args\":[{\"value\":\"sanger_hNSC_G3_150_UP\",\"description\":\"TODO: get from docstring\",\"label\":\"target\",\"name\":\"target\"},{\"value\":\"sanger_drug_sensitivity\",\"description\":\"TODO: get from docstring\",\"label\":\"features\",\"name\":\"features\"}],\"default_args\":[],\"description\":\"TODO: get from docstring\",\"function_name\":\"make_association_panel\"}}-->"
   ]
  },
  {
   "cell_type": "markdown",
   "metadata": {},
   "source": [
    "Here the drugs CGP-60474_B and CGP-082996_B are selectively compared to the hNSC signature."
   ]
  },
  {
   "cell_type": "code",
   "execution_count": null,
   "metadata": {
    "collapsed": false
   },
   "outputs": [],
   "source": [
    "indices = ['CGP-082996_B','CGP-60474_B']"
   ]
  },
  {
   "cell_type": "code",
   "execution_count": null,
   "metadata": {
    "collapsed": true
   },
   "outputs": [],
   "source": [
    "# Set directory\n",
    "results = join(DIR_RESULT, 'CGP-60474_CGP-082996_panel')"
   ]
  },
  {
   "cell_type": "code",
   "execution_count": null,
   "metadata": {
    "collapsed": true
   },
   "outputs": [],
   "source": [
    "# Filter rows\n",
    "sanger_drug_sensitivity_selected = sanger_drug_sensitivity.ix[indices, :]"
   ]
  },
  {
   "cell_type": "code",
   "execution_count": null,
   "metadata": {
    "collapsed": false,
    "scrolled": false
   },
   "outputs": [],
   "source": [
    "%%HTML\n",
    "<!--!AUTO_EXEC-->\n",
    "<paper-material elevation=\"2\" class=\"task-widget\"><paper-collapse-item class=\"task-widget-inner\" header=\"<h1>Make summary panel</h1>\" opened=\"True\"><div class=\"widget-panel widget-panel-left\"><form is=\"iron-form\" class=\"task-widget-form\"><div class=\"form-group-wrapper\"><paper-collapse-item class=\"field-group field-required_args-group\" header=\"Input\" opened=\"True\"><paper-input label=\"target\" name=\"required_args\" required=\"required\" value=\"sanger_hNSC_G3_150_UP\" auto-validate=\"\" error-message=\"Required!\"></paper-input><paper-input label=\"features\" name=\"required_args\" required=\"required\" value=\"sanger_drug_sensitivity_selected\" auto-validate=\"\" error-message=\"Required!\"></paper-input></paper-collapse-item></div><div class=\"form-group-wrapper\"><paper-collapse-item class=\"field-group field-optional_args-group\" header=\"Optional Input\"><paper-input label=\"title\" name=\"optional_args\" required=\"required\" value=\"GenomicsofDrugSensitivity(Sanger)\"></paper-input><paper-input label=\"target_name\" name=\"optional_args\" required=\"required\" value=\"hNCSsignature\"></paper-input><paper-input label=\"filepath_prefix\" name=\"optional_args\" required=\"required\" value=\"results\"></paper-input></paper-collapse-item></div><div class=\"form-group-wrapper\"><paper-collapse-item class=\"field-group field-returns-group\" header=\"Output\" opened=\"True\"><paper-input label=\"TODO: get from docstring\" name=\"returns\" required=\"required\" value=\"selected_sanger_drugs_df\" auto-validate=\"\" error-message=\"Required!\"></paper-input></paper-collapse-item></div><button class=\"form-submit-button-wrapper\"><paper-button class=\"form-submit-button\" raised=\"\">run<iron-icon icon=\"done\"></iron-icon></paper-button></button></form></div><div class=\"widget-panel widget-panel-right\"><div class=\"task-info\">TODO: get from docstring</div><li class=\"item-info\" style=\"display: none;\"><h3>target</h3><p>TODO: get from docstring</p></li><li class=\"item-info\" style=\"display: none;\"><h3>features</h3><p>TODO: get from docstring</p></li><li class=\"item-info\" style=\"display: none;\"><h3>title</h3><p>TODO: get from docstring</p></li><li class=\"item-info\" style=\"display: none;\"><h3>target_name</h3><p>TODO: get from docstring</p></li><li class=\"item-info\" style=\"display: none;\"><h3>filepath_prefix</h3><p>TODO: get from docstring</p></li><li class=\"item-info\" style=\"display: none;\"><h3>TODO: get from docstring</h3><p>TODO: get from docstring</p></li></div></paper-collapse-item></paper-material>\n",
    "<!--{\"Make summary panel\":{\"optional_args\":[{\"value\":\"GenomicsofDrugSensitivity(Sanger)\",\"description\":\"TODO: get from docstring\",\"label\":\"title\",\"name\":\"title\"},{\"value\":\"hNCSsignature\",\"description\":\"TODO: get from docstring\",\"label\":\"target_name\",\"name\":\"target_name\"},{\"value\":\"results\",\"description\":\"TODO: get from docstring\",\"label\":\"filepath_prefix\",\"name\":\"filepath_prefix\"}],\"returns\":[{\"value\":\"selected_sanger_drugs_df\",\"description\":\"TODO: get from docstring\",\"label\":\"TODO: get from docstring\"}],\"library_path\":\"/home/cyborg/CompBio/discover/tools/\",\"library_name\":\"ccal.computational_cancer_biology.association\",\"required_args\":[{\"value\":\"sanger_hNSC_G3_150_UP\",\"description\":\"TODO: get from docstring\",\"label\":\"target\",\"name\":\"target\"},{\"value\":\"sanger_drug_sensitivity_selected\",\"description\":\"TODO: get from docstring\",\"label\":\"features\",\"name\":\"features\"}],\"default_args\":[],\"description\":\"TODO: get from docstring\",\"function_name\":\"make_association_panel\"}}-->"
   ]
  },
  {
   "cell_type": "markdown",
   "metadata": {},
   "source": [
    "<hr style=\"border: none; border-bottom: 1px solid #db0606;\">\n",
    "### 3.2 Compare CCLE hNSC signature to CTRP drug sensitivity "
   ]
  },
  {
   "cell_type": "code",
   "execution_count": null,
   "metadata": {
    "collapsed": true
   },
   "outputs": [],
   "source": [
    "indices = ['alvocidib']"
   ]
  },
  {
   "cell_type": "code",
   "execution_count": null,
   "metadata": {
    "collapsed": true
   },
   "outputs": [],
   "source": [
    "# Set directory\n",
    "results = join(DIR_RESULT, 'flavopiridol_panel')"
   ]
  },
  {
   "cell_type": "code",
   "execution_count": null,
   "metadata": {
    "collapsed": true
   },
   "outputs": [],
   "source": [
    "# Filter rows\n",
    "ctrp_drug_sensitivity_selected = ctrp_drug_sensitivity.ix[indices, :]"
   ]
  },
  {
   "cell_type": "code",
   "execution_count": 2,
   "metadata": {
    "collapsed": false,
    "scrolled": true
   },
   "outputs": [
    {
     "data": {
      "text/html": [
       "<!--!AUTO_EXEC-->\n",
       "<paper-material class=\"task-widget\" elevation=\"1\"><div class=\"task-widget-header item-header\"><h2>Make summary panel</h2></div><iron-collapse class=\"task-widget-inner\"><div class=\"task-widget-content item-content\"><div class=\"widget-info\">TODO: get from docstring</div><form is=\"iron-form\" class=\"task-widget-form\"><div class=\"widget-form-panel\"><div class=\"field-group field-required_args-group\"><div class=\"item-header\"><h3>Input</h3>\n",
       "               <paper-icon-button icon=\"info\"></paper-icon-button></div><iron-collapse><div class=\"field-group-content item-content\"><div class=\"item-header\"><paper-input label=\"target\" name=\"required_args\" value=\"ccle_hNSC_G3_150_UP\" auto-validate=\"\" error-message=\"Required!\" required=\"required\"></paper-input></div><iron-collapse><div class=\"item-content\">TODO: get from docstring</div></iron-collapse><div class=\"item-header\"><paper-input label=\"features\" name=\"required_args\" value=\"ctrp_drug_sensitivity_selected\" auto-validate=\"\" error-message=\"Required!\" required=\"required\"></paper-input></div><iron-collapse><div class=\"item-content\">TODO: get from docstring</div></iron-collapse></div></iron-collapse></div><div class=\"field-group field-optional_args-group\"><div class=\"item-header\"><h3>Optional Input</h3>\n",
       "               <paper-icon-button icon=\"info\"></paper-icon-button></div><iron-collapse><div class=\"field-group-content item-content\"><div class=\"item-header\"><paper-input label=\"title\" name=\"optional_args\" value=\"TheCancerTherapeuticsResponsePortal(CTPRv2)\"></paper-input></div><iron-collapse><div class=\"item-content\">TODO: get from docstring</div></iron-collapse><div class=\"item-header\"><paper-input label=\"target_name\" name=\"optional_args\" value=\"hNCSsignature\"></paper-input></div><iron-collapse><div class=\"item-content\">TODO: get from docstring</div></iron-collapse><div class=\"item-header\"><paper-input label=\"filepath_prefix\" name=\"optional_args\" value=\"results\"></paper-input></div><iron-collapse><div class=\"item-content\">TODO: get from docstring</div></iron-collapse></div></iron-collapse></div><div class=\"field-group field-returns-group\"><div class=\"item-header\"><h3>Output</h3>\n",
       "               <paper-icon-button icon=\"info\"></paper-icon-button></div><iron-collapse><div class=\"field-group-content item-content\"><div class=\"item-header\"><paper-input label=\"TODO: get from docstring\" name=\"returns\" value=\"selected_ctrp_drugs_df\" auto-validate=\"\" error-message=\"Required!\" required=\"required\"></paper-input></div><iron-collapse><div class=\"item-content\">TODO: get from docstring</div></iron-collapse></div></iron-collapse></div></div><button class=\"form-submit-button-wrapper\"><paper-button class=\"form-submit-button\" raised=\"\">submit<iron-icon icon=\"assessment\"></iron-icon></paper-button></button></form></div></iron-collapse></paper-material>\n",
       "<!--{\"Make summary panel\":{\"optional_args\":[{\"value\":\"TheCancerTherapeuticsResponsePortal(CTPRv2)\",\"description\":\"TODO: get from docstring\",\"label\":\"title\",\"name\":\"title\"},{\"value\":\"hNCSsignature\",\"description\":\"TODO: get from docstring\",\"label\":\"target_name\",\"name\":\"target_name\"},{\"value\":\"results\",\"description\":\"TODO: get from docstring\",\"label\":\"filepath_prefix\",\"name\":\"filepath_prefix\"}],\"returns\":[{\"value\":\"selected_ctrp_drugs_df\",\"description\":\"TODO: get from docstring\",\"label\":\"TODO: get from docstring\"}],\"library_path\":\"/home/cyborg/CompBio/discover/tools/\",\"library_name\":\"ccal.computational_cancer_biology.association\",\"required_args\":[{\"value\":\"ccle_hNSC_G3_150_UP\",\"description\":\"TODO: get from docstring\",\"label\":\"target\",\"name\":\"target\"},{\"value\":\"ctrp_drug_sensitivity_selected\",\"description\":\"TODO: get from docstring\",\"label\":\"features\",\"name\":\"features\"}],\"default_args\":[],\"description\":\"TODO: get from docstring\",\"function_name\":\"make_association_panel\"}}-->"
      ],
      "text/plain": [
       "<IPython.core.display.HTML object>"
      ]
     },
     "metadata": {},
     "output_type": "display_data"
    }
   ],
   "source": [
    "%%HTML\n",
    "<!--!AUTO_EXEC-->\n",
    "<paper-material class=\"task-widget\" elevation=\"1\"><div class=\"task-widget-header item-header\"><h2>Make summary panel</h2></div><iron-collapse class=\"task-widget-inner\"><div class=\"task-widget-content item-content\"><div class=\"widget-info\">TODO: get from docstring</div><form is=\"iron-form\" class=\"task-widget-form\"><div class=\"widget-form-panel\"><div class=\"field-group field-required_args-group\"><div class=\"item-header\"><h3>Input</h3>\n",
    "               <paper-icon-button icon=\"info\"></paper-icon-button></div><iron-collapse><div class=\"field-group-content item-content\"><div class=\"item-header\"><paper-input label=\"target\" name=\"required_args\" value=\"ccle_hNSC_G3_150_UP\" auto-validate=\"\" error-message=\"Required!\" required=\"required\"></paper-input></div><iron-collapse><div class=\"item-content\">TODO: get from docstring</div></iron-collapse><div class=\"item-header\"><paper-input label=\"features\" name=\"required_args\" value=\"ctrp_drug_sensitivity_selected\" auto-validate=\"\" error-message=\"Required!\" required=\"required\"></paper-input></div><iron-collapse><div class=\"item-content\">TODO: get from docstring</div></iron-collapse></div></iron-collapse></div><div class=\"field-group field-optional_args-group\"><div class=\"item-header\"><h3>Optional Input</h3>\n",
    "               <paper-icon-button icon=\"info\"></paper-icon-button></div><iron-collapse><div class=\"field-group-content item-content\"><div class=\"item-header\"><paper-input label=\"title\" name=\"optional_args\" value=\"TheCancerTherapeuticsResponsePortal(CTPRv2)\"></paper-input></div><iron-collapse><div class=\"item-content\">TODO: get from docstring</div></iron-collapse><div class=\"item-header\"><paper-input label=\"target_name\" name=\"optional_args\" value=\"hNCSsignature\"></paper-input></div><iron-collapse><div class=\"item-content\">TODO: get from docstring</div></iron-collapse><div class=\"item-header\"><paper-input label=\"filepath_prefix\" name=\"optional_args\" value=\"results\"></paper-input></div><iron-collapse><div class=\"item-content\">TODO: get from docstring</div></iron-collapse></div></iron-collapse></div><div class=\"field-group field-returns-group\"><div class=\"item-header\"><h3>Output</h3>\n",
    "               <paper-icon-button icon=\"info\"></paper-icon-button></div><iron-collapse><div class=\"field-group-content item-content\"><div class=\"item-header\"><paper-input label=\"TODO: get from docstring\" name=\"returns\" value=\"selected_ctrp_drugs_df\" auto-validate=\"\" error-message=\"Required!\" required=\"required\"></paper-input></div><iron-collapse><div class=\"item-content\">TODO: get from docstring</div></iron-collapse></div></iron-collapse></div></div><button class=\"form-submit-button-wrapper\"><paper-button class=\"form-submit-button\" raised=\"\">submit<iron-icon icon=\"assessment\"></iron-icon></paper-button></button></form></div></iron-collapse></paper-material>\n",
    "<!--{\"Make summary panel\":{\"optional_args\":[{\"value\":\"TheCancerTherapeuticsResponsePortal(CTPRv2)\",\"description\":\"TODO: get from docstring\",\"label\":\"title\",\"name\":\"title\"},{\"value\":\"hNCSsignature\",\"description\":\"TODO: get from docstring\",\"label\":\"target_name\",\"name\":\"target_name\"},{\"value\":\"results\",\"description\":\"TODO: get from docstring\",\"label\":\"filepath_prefix\",\"name\":\"filepath_prefix\"}],\"returns\":[{\"value\":\"selected_ctrp_drugs_df\",\"description\":\"TODO: get from docstring\",\"label\":\"TODO: get from docstring\"}],\"library_path\":\"/home/cyborg/CompBio/discover/tools/\",\"library_name\":\"ccal.computational_cancer_biology.association\",\"required_args\":[{\"value\":\"ccle_hNSC_G3_150_UP\",\"description\":\"TODO: get from docstring\",\"label\":\"target\",\"name\":\"target\"},{\"value\":\"ctrp_drug_sensitivity_selected\",\"description\":\"TODO: get from docstring\",\"label\":\"features\",\"name\":\"features\"}],\"default_args\":[],\"description\":\"TODO: get from docstring\",\"function_name\":\"make_association_panel\"}}-->"
   ]
  },
  {
   "cell_type": "markdown",
   "metadata": {},
   "source": [
    "<hr style=\"border: none; border-bottom: 1px solid #db0606;\">\n",
    "### 3.3 Compare CCLE hNSC signature to CCLE drug sensitivity "
   ]
  },
  {
   "cell_type": "code",
   "execution_count": null,
   "metadata": {
    "collapsed": true
   },
   "outputs": [],
   "source": [
    "indices = ['PD-0332991']"
   ]
  },
  {
   "cell_type": "code",
   "execution_count": null,
   "metadata": {
    "collapsed": true
   },
   "outputs": [],
   "source": [
    "# Set directory\n",
    "results = join(DIR_RESULT, 'palbociclib_panel')"
   ]
  },
  {
   "cell_type": "code",
   "execution_count": null,
   "metadata": {
    "collapsed": true
   },
   "outputs": [],
   "source": [
    "# Filter rows\n",
    "ccle_drug_sensitivity_selected = ccle_drug_sensitivity.ix[indices, :]"
   ]
  },
  {
   "cell_type": "code",
   "execution_count": null,
   "metadata": {
    "collapsed": false
   },
   "outputs": [],
   "source": [
    "%%HTML\n",
    "<!--!AUTO_EXEC-->\n",
    "<paper-material elevation=\"2\" class=\"task-widget\"><paper-collapse-item class=\"task-widget-inner\" header=\"<h1>Make summary panel</h1>\" opened=\"True\"><div class=\"widget-panel widget-panel-left\"><form is=\"iron-form\" class=\"task-widget-form\"><div class=\"form-group-wrapper\"><paper-collapse-item class=\"field-group field-required_args-group\" header=\"Input\" opened=\"True\"><paper-input label=\"target\" name=\"required_args\" required=\"required\" value=\"ccle_hNSC_G3_150_UP\" auto-validate=\"\" error-message=\"Required!\"></paper-input><paper-input label=\"features\" name=\"required_args\" required=\"required\" value=\"ccle_drug_sensitivity_selected\" auto-validate=\"\" error-message=\"Required!\"></paper-input></paper-collapse-item></div><div class=\"form-group-wrapper\"><paper-collapse-item class=\"field-group field-optional_args-group\" header=\"Optional Input\"><paper-input label=\"title\" name=\"optional_args\" required=\"required\" value=\"PharmacologicalProfilingDrugData(CCLE)\"></paper-input><paper-input label=\"target_name\" name=\"optional_args\" required=\"required\" value=\"hNCSsignature\"></paper-input><paper-input label=\"filepath_prefix\" name=\"optional_args\" required=\"required\" value=\"results\"></paper-input></paper-collapse-item></div><div class=\"form-group-wrapper\"><paper-collapse-item class=\"field-group field-returns-group\" header=\"Output\" opened=\"True\"><paper-input label=\"TODO: get from docstring\" name=\"returns\" required=\"required\" value=\"selected_ccle_drugs_df\" auto-validate=\"\" error-message=\"Required!\"></paper-input></paper-collapse-item></div><button class=\"form-submit-button-wrapper\"><paper-button class=\"form-submit-button\" raised=\"\">run<iron-icon icon=\"done\"></iron-icon></paper-button></button></form></div><div class=\"widget-panel widget-panel-right\"><div class=\"task-info\">TODO: get from docstring</div><li class=\"item-info\" style=\"display: none;\"><h3>target</h3><p>TODO: get from docstring</p></li><li class=\"item-info\" style=\"display: none;\"><h3>features</h3><p>TODO: get from docstring</p></li><li class=\"item-info\" style=\"display: none;\"><h3>title</h3><p>TODO: get from docstring</p></li><li class=\"item-info\" style=\"display: none;\"><h3>target_name</h3><p>TODO: get from docstring</p></li><li class=\"item-info\" style=\"display: none;\"><h3>filepath_prefix</h3><p>TODO: get from docstring</p></li><li class=\"item-info\" style=\"display: none;\"><h3>TODO: get from docstring</h3><p>TODO: get from docstring</p></li></div></paper-collapse-item></paper-material>\n",
    "<!--{\"Make summary panel\":{\"optional_args\":[{\"value\":\"PharmacologicalProfilingDrugData(CCLE)\",\"description\":\"TODO: get from docstring\",\"label\":\"title\",\"name\":\"title\"},{\"value\":\"hNCSsignature\",\"description\":\"TODO: get from docstring\",\"label\":\"target_name\",\"name\":\"target_name\"},{\"value\":\"results\",\"description\":\"TODO: get from docstring\",\"label\":\"filepath_prefix\",\"name\":\"filepath_prefix\"}],\"returns\":[{\"value\":\"selected_ccle_drugs_df\",\"description\":\"TODO: get from docstring\",\"label\":\"TODO: get from docstring\"}],\"library_path\":\"/home/cyborg/CompBio/discover/tools/\",\"library_name\":\"ccal.computational_cancer_biology.association\",\"required_args\":[{\"value\":\"ccle_hNSC_G3_150_UP\",\"description\":\"TODO: get from docstring\",\"label\":\"target\",\"name\":\"target\"},{\"value\":\"ccle_drug_sensitivity_selected\",\"description\":\"TODO: get from docstring\",\"label\":\"features\",\"name\":\"features\"}],\"default_args\":[],\"description\":\"TODO: get from docstring\",\"function_name\":\"make_association_panel\"}}-->"
   ]
  },
  {
   "cell_type": "markdown",
   "metadata": {},
   "source": [
    "<div>\n",
    "    <img src=\"../media/footer_banner.jpg\" width=210>\n",
    "</div>"
   ]
  }
 ],
 "metadata": {
  "anaconda-cloud": {},
  "kernelspec": {
   "display_name": "Python 3",
   "language": "python",
   "name": "python3"
  },
  "language_info": {
   "codemirror_mode": {
    "name": "ipython",
    "version": 3
   },
   "file_extension": ".py",
   "mimetype": "text/x-python",
   "name": "python",
   "nbconvert_exporter": "python",
   "pygments_lexer": "ipython3",
   "version": "3.6.0"
  }
 },
 "nbformat": 4,
 "nbformat_minor": 0
}
