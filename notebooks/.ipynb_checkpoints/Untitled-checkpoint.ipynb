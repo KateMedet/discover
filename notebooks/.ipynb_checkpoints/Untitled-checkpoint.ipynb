{
 "cells": [
  {
   "cell_type": "code",
   "execution_count": null,
   "metadata": {
    "collapsed": true
   },
   "outputs": [],
   "source": []
  },
  {
   "cell_type": "code",
   "execution_count": 1,
   "metadata": {
    "collapsed": true
   },
   "outputs": [],
   "source": [
    "# !AUTOEXEC\n",
    "# Make and show widget\n",
    "task_view = task_manager.create_task_view(json.loads('''{\"optional_args\":[],\"library_name\":\"ccal.computational_cancer_biology.oncogps\",\"required_args\":[{\"value\":\"\",\"label\":\"H Matrix\",\"description\":\"No description :(\",\"arg_name\":\"matrix\"},{\"value\":\"\",\"label\":\"Numbers of States\",\"description\":\"No description :(\",\"arg_name\":\"ks\"}],\"default_args\":[],\"library_path\":\"/Users/kateme/ccal/\",\"function_name\":\"define_states\",\"returns\":[{\"label\":\"Distance Matrix\",\"description\":\"No description :(\"},{\"label\":\"Clusterings\",\"description\":\"No description :(\"},{\"label\":\"Cophenetic Correlation Coefficients\",\"description\":\"No description :(\"}],\"description\":\"\",\"label\":\"Define States\"}'''))\n",
    "task_view.create()\n",
    "      "
   ]
  }
 ],
 "metadata": {
  "anaconda-cloud": {},
  "kernelspec": {
   "display_name": "Python [default]",
   "language": "python",
   "name": "python3"
  },
  "language_info": {
   "codemirror_mode": {
    "name": "ipython",
    "version": 3
   },
   "file_extension": ".py",
   "mimetype": "text/x-python",
   "name": "python",
   "nbconvert_exporter": "python",
   "pygments_lexer": "ipython3",
   "version": "3.5.2"
  },
  "widgets": {
   "state": {
    "e6b40dc385cf41479ac22d0fbca35588": {
     "views": [
      {
       "cell_index": 1
      }
     ]
    }
   },
   "version": "1.2.0"
  }
 },
 "nbformat": 4,
 "nbformat_minor": 1
}
