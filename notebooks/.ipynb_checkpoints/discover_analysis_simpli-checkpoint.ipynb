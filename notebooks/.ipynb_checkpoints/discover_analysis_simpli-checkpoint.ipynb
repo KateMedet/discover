{
 "cells": [
  {
   "cell_type": "markdown",
   "metadata": {},
   "source": [
    "<table style=\"border:2px solid white;\" cellspacing=\"0\" cellpadding=\"0\" border-collapse: collapse; border-spacing: 0;>\n",
    "  <tr> \n",
    "    <th style=\"background-color:white\"> <img src=\"media/CCAL.png\" width=175 height=175></th>\n",
    "    <th style=\"background-color:white\"> <img src=\"media/logoMoores.jpg\" width=175 height=175></th>\n",
    "    <th style=\"background-color:white\"> <img src=\"media/GP.png\" width=200 height=200></th>\n",
    "    <th style=\"background-color:white\"> <img src=\"media/Johns_Hopkins_School_of_Medicine.png\" width=175 height=175></th> \n",
    "    <th style=\"background-color:white\"> <img src=\"media/Broad.png\" width=130 height=130></th> \n",
    "  </tr>\n",
    "</table>"
   ]
  },
  {
   "cell_type": "markdown",
   "metadata": {},
   "source": [
    "<h1 align=\"center\">DiSCovERing innovative therapies for rare tumors: Overview</h1>  "
   ]
  },
  {
   "cell_type": "markdown",
   "metadata": {},
   "source": [
    "<hr style=\"border: none; border-top: 3px solid #88BBEE;\">\n",
    "## 1. Set input and result files/directories"
   ]
  },
  {
   "cell_type": "code",
   "execution_count": null,
   "metadata": {
    "collapsed": true
   },
   "outputs": [],
   "source": []
  },
  {
   "cell_type": "markdown",
   "metadata": {},
   "source": [
    "### 1.1 Load expressional signatures"
   ]
  },
  {
   "cell_type": "code",
   "execution_count": 1,
   "metadata": {
    "collapsed": false
   },
   "outputs": [],
   "source": [
    "# !AUTOEXEC\n",
    "# Make and show widget\n",
    "task_view = task_manager.create_task_view(json.loads('''{\"description\":\"\",\"function_name\":\"read_gct\",\"returns\":[{\"description\":\"No description :(\",\"label\":\"Matrix\"}],\"library_path\":\"/Users/kateme/ccal/\",\"optional_args\":[],\"default_args\":[],\"library_name\":\"ccal\",\"required_args\":[{\"label\":\".GCT file\",\"value\":\"\",\"arg_name\":\"filepath\",\"description\":\"No description :(\"}],\"label\":\"Read .GCT File\"}'''))\n",
    "task_view.create()\n",
    "      "
   ]
  },
  {
   "cell_type": "code",
   "execution_count": null,
   "metadata": {
    "collapsed": false
   },
   "outputs": [],
   "source": [
    "# !AUTOEXEC\n",
    "# Make and show widget\n",
    "task_view = task_manager.create_task_view(json.loads('''{\"description\":\"\",\"function_name\":\"read_gct\",\"returns\":[{\"description\":\"No description :(\",\"label\":\"Matrix\"}],\"library_path\":\"/Users/kateme/ccal/\",\"optional_args\":[],\"default_args\":[],\"library_name\":\"ccal\",\"required_args\":[{\"label\":\".GCT file\",\"value\":\"\",\"arg_name\":\"filepath\",\"description\":\"No description :(\"}],\"label\":\"Read .GCT File\"}'''))\n",
    "task_view.create()"
   ]
  },
  {
   "cell_type": "code",
   "execution_count": 11,
   "metadata": {
    "collapsed": false
   },
   "outputs": [],
   "source": [
    "sanger_signatures_hNSC150 = sanger_signatures.ix['hNSC_G3_150_UP']\n",
    "ccle_signatures_hNSC150 = ccle_signatures.ix['hNSC_G3_150_UP']"
   ]
  },
  {
   "cell_type": "markdown",
   "metadata": {},
   "source": [
    "### 1.2 Load drug sensitivities"
   ]
  },
  {
   "cell_type": "code",
   "execution_count": null,
   "metadata": {
    "collapsed": false
   },
   "outputs": [],
   "source": [
    "# !AUTOEXEC\n",
    "# Make and show widget\n",
    "task_view = task_manager.create_task_view(json.loads('''{\"description\":\"\",\"function_name\":\"read_gct\",\"returns\":[{\"description\":\"No description :(\",\"label\":\"Matrix\"}],\"library_path\":\"/Users/kateme/ccal/\",\"optional_args\":[],\"default_args\":[],\"library_name\":\"ccal\",\"required_args\":[{\"label\":\".GCT file\",\"value\":\"\",\"arg_name\":\"filepath\",\"description\":\"No description :(\"}],\"label\":\"Read .GCT File\"}'''))\n",
    "task_view.create()\n",
    "      "
   ]
  },
  {
   "cell_type": "code",
   "execution_count": null,
   "metadata": {
    "collapsed": false
   },
   "outputs": [],
   "source": [
    "# !AUTOEXEC\n",
    "# Make and show widget\n",
    "task_view = task_manager.create_task_view(json.loads('''{\"description\":\"\",\"function_name\":\"read_gct\",\"returns\":[{\"description\":\"No description :(\",\"label\":\"Matrix\"}],\"library_path\":\"/Users/kateme/ccal/\",\"optional_args\":[],\"default_args\":[],\"library_name\":\"ccal\",\"required_args\":[{\"label\":\".GCT file\",\"value\":\"\",\"arg_name\":\"filepath\",\"description\":\"No description :(\"}],\"label\":\"Read .GCT File\"}'''))\n",
    "task_view.create()\n",
    "      "
   ]
  },
  {
   "cell_type": "code",
   "execution_count": null,
   "metadata": {
    "collapsed": false
   },
   "outputs": [],
   "source": [
    "# !AUTOEXEC\n",
    "# Make and show widget\n",
    "task_view = task_manager.create_task_view(json.loads('''{\"description\":\"\",\"function_name\":\"read_gct\",\"returns\":[{\"description\":\"No description :(\",\"label\":\"Matrix\"}],\"library_path\":\"/Users/kateme/ccal/\",\"optional_args\":[],\"default_args\":[],\"library_name\":\"ccal\",\"required_args\":[{\"label\":\".GCT file\",\"value\":\"\",\"arg_name\":\"filepath\",\"description\":\"No description :(\"}],\"label\":\"Read .GCT File\"}'''))\n",
    "task_view.create()\n",
    "      "
   ]
  },
  {
   "cell_type": "markdown",
   "metadata": {},
   "source": [
    "## 2. Compare medulloblastoma expressional signatures to drug sensitivity data "
   ]
  },
  {
   "cell_type": "markdown",
   "metadata": {},
   "source": [
    "### 2.1 Compare CCLE hNSC signature to CTRP drug sensitivity "
   ]
  },
  {
   "cell_type": "code",
   "execution_count": null,
   "metadata": {
    "collapsed": false
   },
   "outputs": [],
   "source": [
    "# !AUTOEXEC\n",
    "# Make and show widget\n",
    "task_view = task_manager.create_task_view(json.loads('''{\"description\":\"\",\"function_name\":\"make_association_panel\",\"returns\":[],\"library_path\":\"/Users/kateme/ccal/\",\"optional_args\":[],\"default_args\":[],\"library_name\":\"ccal.computational_cancer_biology.association\",\"required_args\":[{\"label\":\"Comparison vector\",\"value\":\"\",\"arg_name\":\"target\",\"description\":\"No description :(\"},{\"label\":\"Comparison matrix\",\"value\":\"\",\"arg_name\":\"features\",\"description\":\"No description :(\"},{\"label\":\"Significance threshold\",\"value\":\"\",\"arg_name\":\"n_features\",\"description\":\"No description :(\"},{\"label\":\"Number of permutations\",\"value\":\"\",\"arg_name\":\"n_permutations\",\"description\":\"No description :(\"}],\"label\":\"Make Association Panel\"}'''))\n",
    "task_view.create()\n",
    "      "
   ]
  },
  {
   "cell_type": "markdown",
   "metadata": {},
   "source": [
    "### 2.2 Compare CCLE hNSC signature to CCLE drug sensitivity "
   ]
  },
  {
   "cell_type": "code",
   "execution_count": null,
   "metadata": {
    "collapsed": false,
    "scrolled": true
   },
   "outputs": [],
   "source": [
    "# !AUTOEXEC\n",
    "# Make and show widget\n",
    "task_view = task_manager.create_task_view(json.loads('''{\"description\":\"\",\"function_name\":\"make_association_panel\",\"returns\":[],\"library_path\":\"/Users/kateme/ccal/\",\"optional_args\":[],\"default_args\":[],\"library_name\":\"ccal.computational_cancer_biology.association\",\"required_args\":[{\"label\":\"Comparison vector\",\"value\":\"\",\"arg_name\":\"target\",\"description\":\"No description :(\"},{\"label\":\"Comparison matrix\",\"value\":\"\",\"arg_name\":\"features\",\"description\":\"No description :(\"},{\"label\":\"Significance threshold\",\"value\":\"\",\"arg_name\":\"n_features\",\"description\":\"No description :(\"},{\"label\":\"Number of permutations\",\"value\":\"\",\"arg_name\":\"n_permutations\",\"description\":\"No description :(\"}],\"label\":\"Make Association Panel\"}'''))\n",
    "task_view.create()\n",
    "      "
   ]
  },
  {
   "cell_type": "markdown",
   "metadata": {},
   "source": [
    "### 2.3 Compare Sanger hNSC signature to Sanger drug sensitivity"
   ]
  },
  {
   "cell_type": "code",
   "execution_count": null,
   "metadata": {
    "collapsed": false,
    "scrolled": true
   },
   "outputs": [],
   "source": [
    "# !AUTOEXEC\n",
    "# Make and show widget\n",
    "task_view = task_manager.create_task_view(json.loads('''{\"description\":\"\",\"function_name\":\"make_association_panel\",\"returns\":[],\"library_path\":\"/Users/kateme/ccal/\",\"optional_args\":[],\"default_args\":[],\"library_name\":\"ccal.computational_cancer_biology.association\",\"required_args\":[{\"label\":\"Comparison vector\",\"value\":\"\",\"arg_name\":\"target\",\"description\":\"No description :(\"},{\"label\":\"Comparison matrix\",\"value\":\"\",\"arg_name\":\"features\",\"description\":\"No description :(\"},{\"label\":\"Significance threshold\",\"value\":\"\",\"arg_name\":\"n_features\",\"description\":\"No description :(\"},{\"label\":\"Number of permutations\",\"value\":\"\",\"arg_name\":\"n_permutations\",\"description\":\"No description :(\"}],\"label\":\"Make Association Panel\"}'''))\n",
    "task_view.create()\n",
    "      "
   ]
  },
  {
   "cell_type": "code",
   "execution_count": null,
   "metadata": {
    "collapsed": true
   },
   "outputs": [],
   "source": []
  }
 ],
 "metadata": {
  "anaconda-cloud": {},
  "kernelspec": {
   "display_name": "Python [default]",
   "language": "python",
   "name": "python3"
  },
  "language_info": {
   "codemirror_mode": {
    "name": "ipython",
    "version": 3
   },
   "file_extension": ".py",
   "mimetype": "text/x-python",
   "name": "python",
   "nbconvert_exporter": "python",
   "pygments_lexer": "ipython3",
   "version": "3.5.2"
  },
  "widgets": {
   "state": {
    "20d0ad71c8c4403f953135e860e4f87e": {
     "views": [
      {
       "cell_index": 4
      }
     ]
    }
   },
   "version": "1.2.0"
  }
 },
 "nbformat": 4,
 "nbformat_minor": 0
}
