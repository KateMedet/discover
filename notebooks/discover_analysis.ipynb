{
 "cells": [
  {
   "cell_type": "code",
   "execution_count": 8,
   "metadata": {
    "collapsed": false
   },
   "outputs": [
    {
     "ename": "KeyError",
     "evalue": "'DIR_DATA'",
     "output_type": "error",
     "traceback": [
      "\u001b[0;31m---------------------------------------------------------------------------\u001b[0m",
      "\u001b[0;31mKeyError\u001b[0m                                  Traceback (most recent call last)",
      "\u001b[0;32m<ipython-input-8-fd6e739c6e45>\u001b[0m in \u001b[0;36m<module>\u001b[0;34m()\u001b[0m\n\u001b[1;32m      1\u001b[0m \u001b[0;32mimport\u001b[0m \u001b[0msimpli\u001b[0m\u001b[0;34m\u001b[0m\u001b[0m\n\u001b[0;32m----> 2\u001b[0;31m \u001b[0msimpli\u001b[0m\u001b[0;34m.\u001b[0m\u001b[0mdefault_tasks\u001b[0m\u001b[0;34m.\u001b[0m\u001b[0mmake_data_filepath\u001b[0m\u001b[0;34m(\u001b[0m\u001b[0;34m'f'\u001b[0m\u001b[0;34m)\u001b[0m\u001b[0;34m\u001b[0m\u001b[0m\n\u001b[0m",
      "\u001b[0;32m/home/cyborg/tools/anaconda/lib/python3.5/site-packages/simpli/default_tasks.py\u001b[0m in \u001b[0;36mmake_data_filepath\u001b[0;34m(filename)\u001b[0m\n\u001b[1;32m    100\u001b[0m     \"\"\"\n\u001b[1;32m    101\u001b[0m \u001b[0;34m\u001b[0m\u001b[0m\n\u001b[0;32m--> 102\u001b[0;31m     \u001b[0;32mreturn\u001b[0m \u001b[0mjoin\u001b[0m\u001b[0;34m(\u001b[0m\u001b[0mglobals\u001b[0m\u001b[0;34m(\u001b[0m\u001b[0;34m)\u001b[0m\u001b[0;34m[\u001b[0m\u001b[0;34m'DIR_DATA'\u001b[0m\u001b[0;34m]\u001b[0m\u001b[0;34m,\u001b[0m \u001b[0mfilename\u001b[0m\u001b[0;34m)\u001b[0m\u001b[0;34m\u001b[0m\u001b[0m\n\u001b[0m",
      "\u001b[0;31mKeyError\u001b[0m: 'DIR_DATA'"
     ]
    }
   ],
   "source": [
    "import simpli\n",
    "simpli.default_tasks.make_data_filepath('f')"
   ]
  },
  {
   "cell_type": "markdown",
   "metadata": {},
   "source": [
    "<img src=\"../media/start_banner.jpg\" width=600 height=337>\n",
    "<table style=\"border:solid white;\" cellspacing=\"0\" cellpadding=\"0\" border-collapse: collapse; border-spacing: 0;>\n",
    "  <tr>\n",
    "    <th style=\"background-color:white\"> <img src=\"../media/logo_0.png\" width=200 height=200></th>\n",
    "    <th style=\"background-color:white\"> <img src=\"../media/logo_1.jpg\" width=200 height=200></th>\n",
    "    <th style=\"background-color:white\"> <img src=\"../media/logo_2.png\" width=200 height=200></th>\n",
    "  </tr>\n",
    "</table>\n",
    "\n",
    "<table style=\"border:solid white;\" cellspacing=\"0\" cellpadding=\"0\" border-collapse: collapse; border-spacing: 1;>\n",
    "  <tr>\n",
    "    <th style=\"background-color:white\"> <img src=\"../media/logo_3.png\" width=200 height=200></th>\n",
    "    <th style=\"background-color:white\"> <img src=\"../media/logo_4.png\" width=200 height=200></th>\n",
    "  </tr>\n",
    "</table>"
   ]
  },
  {
   "cell_type": "markdown",
   "metadata": {},
   "source": [
    "<hr style=\"border: none; border-top: 3px solid #db0606;\">\n",
    "<h1 align=\"center\">DiSCovERing innovative therapies for rare tumors: Overview</h1> \n",
    "<h3 align=\"cnter\"> </h3>\n",
    "\n",
    "__Authors:__ \n",
    "Allison Rose Hanaford - *Johns Hopkins University School of Medicine, Baltimore, MD*      \n",
    "&nbsp;&nbsp;&nbsp;&nbsp;&nbsp;&nbsp;&nbsp;&nbsp;&nbsp;&nbsp;&nbsp;&nbsp;&nbsp;&nbsp;&nbsp;&nbsp;\n",
    "Tenley C. Archer - *Boston Children's Hospital, Boston, MA*              \n",
    "&nbsp;&nbsp;&nbsp;&nbsp;&nbsp;&nbsp;&nbsp;&nbsp;&nbsp;&nbsp;&nbsp;&nbsp;&nbsp;&nbsp;&nbsp;&nbsp;\n",
    "Antoinette Price - *Johns Hopkins University School of Medicine, Baltimore, MD*                                                                             \n",
    "&nbsp;&nbsp;&nbsp;&nbsp;&nbsp;&nbsp;&nbsp;&nbsp;&nbsp;&nbsp;&nbsp;&nbsp;&nbsp;&nbsp;&nbsp;&nbsp;\n",
    "Ulf Kahlert - *University Medical Center Düsseldorf, Dusseldorf, Germany*                                                                                   \n",
    "&nbsp;&nbsp;&nbsp;&nbsp;&nbsp;&nbsp;&nbsp;&nbsp;&nbsp;&nbsp;&nbsp;&nbsp;&nbsp;&nbsp;&nbsp;&nbsp;\n",
    "Jarek Maciaczyk - *University Medical Center Düsseldorf, Dusseldorf, Germany*                                                                             \n",
    "&nbsp;&nbsp;&nbsp;&nbsp;&nbsp;&nbsp;&nbsp;&nbsp;&nbsp;&nbsp;&nbsp;&nbsp;&nbsp;&nbsp;&nbsp;&nbsp;\n",
    "Nikkhah Guido - *Universitätsklinikum Freiburg, Freiburg, Germany*                                                                                \n",
    "&nbsp;&nbsp;&nbsp;&nbsp;&nbsp;&nbsp;&nbsp;&nbsp;&nbsp;&nbsp;&nbsp;&nbsp;&nbsp;&nbsp;&nbsp;&nbsp;\n",
    "Wlliam Kim - *Broad Institute of MIT and Harvard, Cambridge, MA*                              \n",
    "&nbsp;&nbsp;&nbsp;&nbsp;&nbsp;&nbsp;&nbsp;&nbsp;&nbsp;&nbsp;&nbsp;&nbsp;&nbsp;&nbsp;&nbsp;&nbsp;\n",
    "Tobias Ehrenberger - *Dana-Farber Cancer Institute, Boston, Massachusetts.*                                                                                                \n",
    "&nbsp;&nbsp;&nbsp;&nbsp;&nbsp;&nbsp;&nbsp;&nbsp;&nbsp;&nbsp;&nbsp;&nbsp;&nbsp;&nbsp;&nbsp;&nbsp;\n",
    "Paul Clemons - *Broad Institute of MIT and Harvard, Cambridge, MA*                            \n",
    "&nbsp;&nbsp;&nbsp;&nbsp;&nbsp;&nbsp;&nbsp;&nbsp;&nbsp;&nbsp;&nbsp;&nbsp;&nbsp;&nbsp;&nbsp;&nbsp;\n",
    "Vlado Dancik - *Broad Institute of MIT and Harvard, Cambridge, MA*                            \n",
    "&nbsp;&nbsp;&nbsp;&nbsp;&nbsp;&nbsp;&nbsp;&nbsp;&nbsp;&nbsp;&nbsp;&nbsp;&nbsp;&nbsp;&nbsp;&nbsp;\n",
    "Brinton Seashore-Ludlow - *Karolinska Institute, Stockholm, Sweden*                           \n",
    "&nbsp;&nbsp;&nbsp;&nbsp;&nbsp;&nbsp;&nbsp;&nbsp;&nbsp;&nbsp;&nbsp;&nbsp;&nbsp;&nbsp;&nbsp;&nbsp;\n",
    "Vasanthi Viswanathan - *Broad Institute of MIT and Harvard, Cambridge, MA*                    \n",
    "&nbsp;&nbsp;&nbsp;&nbsp;&nbsp;&nbsp;&nbsp;&nbsp;&nbsp;&nbsp;&nbsp;&nbsp;&nbsp;&nbsp;&nbsp;&nbsp;\n",
    "Michelle Stewart - *Broad Institute of MIT and Harvard, Cambridge, MA*                        \n",
    "&nbsp;&nbsp;&nbsp;&nbsp;&nbsp;&nbsp;&nbsp;&nbsp;&nbsp;&nbsp;&nbsp;&nbsp;&nbsp;&nbsp;&nbsp;&nbsp;\n",
    "Matthew Rees - *Broad Institute of MIT and Harvard, Cambridge, MA*                            \n",
    "&nbsp;&nbsp;&nbsp;&nbsp;&nbsp;&nbsp;&nbsp;&nbsp;&nbsp;&nbsp;&nbsp;&nbsp;&nbsp;&nbsp;&nbsp;&nbsp;\n",
    "Alykahn Shamji - *Broad Institute of MIT and Harvard, Cambridge, MA*                          \n",
    "&nbsp;&nbsp;&nbsp;&nbsp;&nbsp;&nbsp;&nbsp;&nbsp;&nbsp;&nbsp;&nbsp;&nbsp;&nbsp;&nbsp;&nbsp;&nbsp;\n",
    "William Hahn - *Broad Institute of MIT and Harvard, Cambridge, MA*                            \n",
    "&nbsp;&nbsp;&nbsp;&nbsp;&nbsp;&nbsp;&nbsp;&nbsp;&nbsp;&nbsp;&nbsp;&nbsp;&nbsp;&nbsp;&nbsp;&nbsp;\n",
    "Stuart Schreiber - *Broad Institute of MIT and Harvard, Cambridge, MA*                        \n",
    "&nbsp;&nbsp;&nbsp;&nbsp;&nbsp;&nbsp;&nbsp;&nbsp;&nbsp;&nbsp;&nbsp;&nbsp;&nbsp;&nbsp;&nbsp;&nbsp;\n",
    "Ernest Fraenkel - *MIT, Cambridge, MA*                                                        \n",
    "&nbsp;&nbsp;&nbsp;&nbsp;&nbsp;&nbsp;&nbsp;&nbsp;&nbsp;&nbsp;&nbsp;&nbsp;&nbsp;&nbsp;&nbsp;&nbsp;\n",
    "Scott Pomeroy - *Boston Children's Hospital, Boston, MA*                                      \n",
    "&nbsp;&nbsp;&nbsp;&nbsp;&nbsp;&nbsp;&nbsp;&nbsp;&nbsp;&nbsp;&nbsp;&nbsp;&nbsp;&nbsp;&nbsp;&nbsp;\n",
    "Jill Mesirov - *University of California San Diego, San Diego, CA*                             \n",
    "&nbsp;&nbsp;&nbsp;&nbsp;&nbsp;&nbsp;&nbsp;&nbsp;&nbsp;&nbsp;&nbsp;&nbsp;&nbsp;&nbsp;&nbsp;&nbsp;\n",
    "Pablo Tamayo - *University of California San Diego, San Diego, CA*                             \n",
    "&nbsp;&nbsp;&nbsp;&nbsp;&nbsp;&nbsp;&nbsp;&nbsp;&nbsp;&nbsp;&nbsp;&nbsp;&nbsp;&nbsp;&nbsp;&nbsp;\n",
    "Charles G. Eberhart - *Johns Hopkins University School of Medicine, Baltimore, MD*             \n",
    "&nbsp;&nbsp;&nbsp;&nbsp;&nbsp;&nbsp;&nbsp;&nbsp;&nbsp;&nbsp;&nbsp;&nbsp;&nbsp;&nbsp;&nbsp;&nbsp;\n",
    "Eric H. Raabe - *Johns Hopkins University School of Medicine, Baltimore, MD*\n",
    "\n",
    "__Date:__ 15 July 2016\n",
    "\n",
    "__Article:__ [DiSCoVERing innovative therapies for rare tumors: Combining genetically accurate disease models with advanced in silico analysis to identify novel therapeutic targets](http://clincancerres.aacrjournals.org/content/22/15/3903)\n",
    "\n",
    "\n",
    "__Absract:__   \n",
    "The lack of genetically accurate models that recapitulate the genetics of human tumors hampers the development of new treatments for rare tumor types. One strategy to create an accurate model would be to use stem cells from a cancer's tissue of origin and add key oncogenic driver elements in combinations that are seen in tumors. These elements should also drive oncogenic transformation relevant to that particular tumor type. To validate this strategy, we used human neural stem and progenitor cells derived from the cerebellar anlage to develop a model of Group 3 MYC-driven medulloblastoma, a rare and frequently fatal pediatric brain tumor. The cells were transduced with c-MYC, dominant-negative p53, constitutively active AKT and hTERT, key oncogenic driver elements associated with aggressive medulloblastoma and injected into moice as orthotopic xerographs. These cells formed tumors in the brains of mice and resulted in decreased survival to a median of 117 days. These tumors histologically, pathologically, and genetically resembled the MYC-driven Group 3 medulloblastoma tumors. In contrast, human neural stem cells immortalized with SV40 did not form tumors in mice. To facilitate rapid screening of a large number of available drugs, we developed an in silico analysis technique, DiSCoVER (Disease-model Signature vs. Compound-Variety Enriched Response) that uses the expression profile of the human neural stem cell models and existing drug sensitivity databases to identify novel therapeutic targets. The DiSCoVER analysis predicted aggressive medulloblastoma would be sensitive to CDK inhibitors. Among the top hits were the CDK4/6 inhibitor palbociclib. Indeed, treatment of Palbociclib in human neural stem cell medulloblastoma model and high-serum medulloblastoma cell lines led to decreased proliferation by an average of 62% as measured by MTS assay compared to vehicle control (p<0.01). Palbociclib treatment also increased the percentage of apoptotic cells by an average of 150% as measured by cleaved caspase-3 immunofluorescence and cleaved-PARP western blot compared to vehicle control (p< 0.04). Treatment with palbociclib significantly extended the survival of mice with orthotopic medulloblastoma xenografts (p = 0.003). We validated our human neural stem cell model of Group 3 medulloblastoma and show that this model, as well as patient-derived high MYC medulloblastoma models, are sensitive to CDK4/6 inhibition in vitro and in vivo. Our results strongly suggest that Palbociclib can be an effective treatment for poor-prognosis MYC-driven medulloblastomas in carefully selected patients (Group 3/C1). In summary, we have presented here a new method of generating genetically accurate models for rare tumors using region-specific human stem and progenitor cells and a novel analysis technique to find therapeutics to target them.\n",
    "\n",
    "<img src=\"../media/supplementary_fig_1.png\" width=800 height=800>"
   ]
  },
  {
   "cell_type": "markdown",
   "metadata": {},
   "source": [
    "<hr style=\"border: none; border-bottom: 3px solid #db0606;\">\n",
    "## 1. Set up notebook and import Computational Cancer Analysis Library ([CCAL](https://github.com/KwatME/ccal))"
   ]
  },
  {
   "cell_type": "code",
   "execution_count": 8,
   "metadata": {
    "collapsed": false
   },
   "outputs": [
    {
     "data": {
      "application/javascript": [
       "\n",
       "        window.Urth = window.Urth || {};\n",
       "        Urth._initialized = Urth._initialized || $.Deferred();\n",
       "        Urth.whenReady = Urth.whenReady || function(cb) {\n",
       "            Urth._initialized.then(function() {\n",
       "                Urth.whenReady(cb);\n",
       "            });\n",
       "        };\n",
       "        Urth.whenReady(function() { console.log(\"Declarative widgets connected.\") });\n",
       "        "
      ],
      "text/plain": [
       "<IPython.core.display.Javascript object>"
      ]
     },
     "metadata": {},
     "output_type": "display_data"
    },
    {
     "data": {
      "text/html": [
       "\n",
       "    <link rel='import' href='urth_components/iron-form/iron-form.html'\n",
       "          is='urth-core-import' package='PolymerElements/iron-form'>\n",
       "    <link rel='import' href='urth_components/paper-input/paper-input.html'\n",
       "          is='urth-core-import' package='PolymerElements/paper-input'>\n",
       "    <link rel='import' href='urth_components/iron-label/iron-label.html'\n",
       "          is='urth-core-import' package='PolymerElements/iron-label'>\n",
       "    <link rel='import' href='urth_components/paper-button/paper-button.html'\n",
       "          is='urth-core-import' package='PolymerElements/paper-button'>\n",
       "    <link rel='import' href='urth_components/iron-icon/iron-icon.html'\n",
       "          is='urth-core-import' package='PolymerElements/iron-icon'>\n",
       "    <link rel='import' href='urth_components/paper-material/paper-material.html'\n",
       "          is='urth-core-import' package='PolymerElements/paper-material'>\n",
       "    <link rel='import' href='urth_components/paper-header-panel/paper-header-panel.html'\n",
       "          is='urth-core-import' package='PolymerElements/paper-header-panel'>\n",
       "    <link rel='import' href='urth_components/iron-collapse/iron-collapse.html'\n",
       "          is='urth-core-import' package='PolymerElements/iron-collapse'>\n",
       "    <link rel='import' href='urth_components/paper-collapse-item/paper-collapse-item.html'\n",
       "          is='urth-core-import' package='Collaborne/paper-collapse-item'>\n",
       "    "
      ],
      "text/plain": [
       "<IPython.core.display.HTML object>"
      ]
     },
     "metadata": {},
     "output_type": "display_data"
    }
   ],
   "source": [
    "load_web_components()"
   ]
  },
  {
   "cell_type": "code",
   "execution_count": 9,
   "metadata": {
    "collapsed": false
   },
   "outputs": [
    {
     "name": "stdout",
     "output_type": "stream",
     "text": [
      "Launching NB Project ...\n",
      "\tExported variable DIR_PROJECT (/home/cyborg/CompBio/discover).\n",
      "\tExported variable DIR_TOOLS (/home/cyborg/CompBio/discover/tools/).\n",
      "\tExported variable DIR_DATA (/home/cyborg/CompBio/discover/data/).\n",
      "\tExported variable DIR_RESULT (/home/cyborg/CompBio/discover/results/).\n",
      "\tExported variable DIR_MEDIA (/home/cyborg/CompBio/discover/media/).\n"
     ]
    }
   ],
   "source": [
    "# TODO: manager executes these set-up commands\n",
    "from environment import *\n",
    "\n",
    "%matplotlib inline\n",
    "%load_ext autoreload\n",
    "%autoreload 2"
   ]
  },
  {
   "cell_type": "markdown",
   "metadata": {},
   "source": [
    "<hr style=\"border: none; border-top: 3px solid #db0606;\">\n",
    "## 2. Set input and result files/directories\n",
    "These are the files where the input expression data and the output signature files are stored\n",
    "### 2.1 Set data filepaths\n",
    "Here the filepaths to the signature files are set."
   ]
  },
  {
   "cell_type": "code",
   "execution_count": 10,
   "metadata": {
    "collapsed": true
   },
   "outputs": [],
   "source": [
    "ccle_signatures_file = join(DIR_DATA, 'CCLE_Expression_Entrez_2012-04-06_plus_Achilles.SELECTED_TISSUES_PATHWAYS.gct')\n",
    "sanger_signatures_file = join(DIR_DATA, 'Sanger_Expression.out.SELECTED_TISSUES_PATHWAYS.gct')"
   ]
  },
  {
   "cell_type": "markdown",
   "metadata": {},
   "source": [
    "Here the filepaths to the drug sensitivity files are set."
   ]
  },
  {
   "cell_type": "code",
   "execution_count": 11,
   "metadata": {
    "collapsed": true
   },
   "outputs": [],
   "source": [
    "ccle_drug_file = join(DIR_DATA, 'CCLE_Drug_Sensitivity.gct')\n",
    "ctrp_drug_file = join(DIR_DATA, 'CTRPv2.2_2015_pub.gct')\n",
    "sanger_drug_file = join(DIR_DATA, 'drug_sensitivity.out.SELECTED.gct')"
   ]
  },
  {
   "cell_type": "markdown",
   "metadata": {},
   "source": [
    "<hr style=\"border: none; border-bottom: 1px solid #db0606;\">\n",
    "### 2.2 Load data files"
   ]
  },
  {
   "cell_type": "markdown",
   "metadata": {},
   "source": [
    "Here the signature data is loaded and the hNSC signatures with 150 of the most up-regulated genes are selected from the signature data."
   ]
  },
  {
   "cell_type": "code",
   "execution_count": 12,
   "metadata": {
    "collapsed": false
   },
   "outputs": [],
   "source": [
    "ccle_signatures = ccal.read_gct(ccle_signatures_file)\n",
    "ccle_hNSC_G3_150_UP = ccle_signatures.ix['hNSC_G3_150_UP']\n",
    "sanger_signatures = ccal.read_gct(sanger_signatures_file)\n",
    "sanger_hNSC_G3_150_UP = sanger_signatures.ix['hNSC_G3_150_UP']"
   ]
  },
  {
   "cell_type": "markdown",
   "metadata": {},
   "source": [
    "Here the drug sensitivity data is loaded."
   ]
  },
  {
   "cell_type": "code",
   "execution_count": 13,
   "metadata": {
    "collapsed": true
   },
   "outputs": [],
   "source": [
    "ccle_drug_sensitivity = ccal.read_gct(ccle_drug_file)\n",
    "ctrp_drug_sensitivity = ccal.read_gct(ctrp_drug_file)\n",
    "sanger_drug_sensitivity = ccal.read_gct(sanger_drug_file)"
   ]
  },
  {
   "cell_type": "markdown",
   "metadata": {},
   "source": [
    "<hr style=\"border: none; border-top: 3px solid #db0606;\">\n",
    "## 3. Compare medulloblastoma expressional signatures to drug sensitivity data \n",
    "The three comparisons noted in supplementary figure 1, shown above, are performed below.\n",
    "### 3.1 Compare Sanger hNSC signature to Sanger drug sensitivity\n",
    "Below an association panel of the top drugs most and least associated with the hNSC signature are shown."
   ]
  },
  {
   "cell_type": "code",
   "execution_count": 14,
   "metadata": {
    "collapsed": true
   },
   "outputs": [],
   "source": [
    "sanger_sanger_results = join(DIR_RESULT, 'sanger_sig_sanger_drug')"
   ]
  },
  {
   "cell_type": "code",
   "execution_count": 2,
   "metadata": {
    "collapsed": false,
    "scrolled": false
   },
   "outputs": [
    {
     "data": {
      "text/html": [
       "<!--!AUTO_EXEC-->\n",
       "<paper-material elevation=\"2\" class=\"task-widget\"><paper-collapse-item class=\"task-widget-inner\" header=\"<h1>Make Association Panel</h1>\" opened=\"True\"><div class=\"widget-panel widget-panel-left\"><form is=\"iron-form\" class=\"task-widget-form\"><div class=\"form-group-wrapper\"><paper-collapse-item class=\"field-group field-required_args-group\" header=\"Input\" opened=\"True\"><paper-input label=\"target\" name=\"required_args\" required=\"required\" value=\"sanger_hNSC_G3_150_UP\" auto-validate=\"\" error-message=\"Required!\"></paper-input><paper-input label=\"features\" name=\"required_args\" required=\"required\" value=\"sanger_drug_sensitivity\" auto-validate=\"\" error-message=\"Required!\"></paper-input></paper-collapse-item></div><div class=\"form-group-wrapper\"><paper-collapse-item class=\"field-group field-optional_args-group\" header=\"Optional Input\"><paper-input label=\"n_permutations\" name=\"optional_args\" required=\"required\" value=\"50\"></paper-input><paper-input label=\"max_n_features\" name=\"optional_args\" required=\"required\" value=\"30\"></paper-input><paper-input label=\"features_ascending\" name=\"optional_args\" required=\"required\" value=\"True\"></paper-input><paper-input label=\"n_jobs\" name=\"optional_args\" required=\"required\" value=\"1\"></paper-input><paper-input label=\"n_features\" name=\"optional_args\" required=\"required\" value=\".90\"></paper-input><paper-input label=\"filepath_prefix\" name=\"optional_args\" required=\"required\" value=\"sanger_sanger_results\"></paper-input></paper-collapse-item></div><div class=\"form-group-wrapper\"><paper-collapse-item class=\"field-group field-returns-group\" header=\"Output\" opened=\"True\"><paper-input label=\"TODO: get from docstring\" name=\"returns\" required=\"required\" value=\"sanger_sign_sanger_drug\" auto-validate=\"\" error-message=\"Required!\"></paper-input></paper-collapse-item></div><button class=\"form-submit-button-wrapper\"><paper-button class=\"form-submit-button\" raised=\"\">run<iron-icon icon=\"done\"></iron-icon></paper-button></button></form></div><div class=\"widget-panel widget-panel-right\"><div class=\"task-info\">TODO: get from docstring</div><li class=\"item-info\" style=\"display: none;\"><h3>target</h3><p>TODO: get from docstring</p></li><li class=\"item-info\" style=\"display: none;\"><h3>features</h3><p>TODO: get from docstring</p></li><li class=\"item-info\" style=\"display: none;\"><h3>n_permutations</h3><p>TODO: get from docstring</p></li><li class=\"item-info\" style=\"display: none;\"><h3>max_n_features</h3><p>TODO: get from docstring</p></li><li class=\"item-info\" style=\"display: none;\"><h3>features_ascending</h3><p>TODO: get from docstring</p></li><li class=\"item-info\" style=\"display: none;\"><h3>n_jobs</h3><p>TODO: get from docstring</p></li><li class=\"item-info\" style=\"display: none;\"><h3>n_features</h3><p>TODO: get from docstring</p></li><li class=\"item-info\" style=\"display: none;\"><h3>filepath_prefix</h3><p>TODO: get from docstring</p></li><li class=\"item-info\" style=\"display: none;\"><h3>TODO: get from docstring</h3><p>TODO: get from docstring</p></li></div></paper-collapse-item></paper-material>\n",
       "<!--{\"Make Association Panel\":{\"returns\":[{\"value\":\"sanger_sign_sanger_drug\",\"label\":\"TODO: get from docstring\",\"description\":\"TODO: get from docstring\"}],\"default_args\":[],\"required_args\":[{\"name\":\"target\",\"value\":\"sanger_hNSC_G3_150_UP\",\"label\":\"target\",\"description\":\"TODO: get from docstring\"},{\"name\":\"features\",\"value\":\"sanger_drug_sensitivity\",\"label\":\"features\",\"description\":\"TODO: get from docstring\"}],\"description\":\"TODO: get from docstring\",\"function_name\":\"make_association_panel\",\"optional_args\":[{\"name\":\"n_permutations\",\"value\":\"50\",\"label\":\"n_permutations\",\"description\":\"TODO: get from docstring\"},{\"name\":\"max_n_features\",\"value\":\"30\",\"label\":\"max_n_features\",\"description\":\"TODO: get from docstring\"},{\"name\":\"features_ascending\",\"value\":\"True\",\"label\":\"features_ascending\",\"description\":\"TODO: get from docstring\"},{\"name\":\"n_jobs\",\"value\":\"1\",\"label\":\"n_jobs\",\"description\":\"TODO: get from docstring\"},{\"name\":\"n_features\",\"value\":\".90\",\"label\":\"n_features\",\"description\":\"TODO: get from docstring\"},{\"name\":\"filepath_prefix\",\"value\":\"sanger_sanger_results\",\"label\":\"filepath_prefix\",\"description\":\"TODO: get from docstring\"}],\"library_path\":\"/home/cyborg/CompBio/discover/tools/\",\"library_name\":\"ccal.computational_cancer_biology.association\"}}-->"
      ],
      "text/plain": [
       "<IPython.core.display.HTML object>"
      ]
     },
     "metadata": {},
     "output_type": "display_data"
    }
   ],
   "source": [
    "%%HTML\n",
    "<!--!AUTO_EXEC-->\n",
    "<paper-material elevation=\"2\" class=\"task-widget\"><paper-collapse-item class=\"task-widget-inner\" header=\"<h1>Make Association Panel</h1>\" opened=\"True\"><div class=\"widget-panel widget-panel-left\"><form is=\"iron-form\" class=\"task-widget-form\"><div class=\"form-group-wrapper\"><paper-collapse-item class=\"field-group field-required_args-group\" header=\"Input\" opened=\"True\"><paper-input label=\"target\" name=\"required_args\" required=\"required\" value=\"sanger_hNSC_G3_150_UP\" auto-validate=\"\" error-message=\"Required!\"></paper-input><paper-input label=\"features\" name=\"required_args\" required=\"required\" value=\"sanger_drug_sensitivity\" auto-validate=\"\" error-message=\"Required!\"></paper-input></paper-collapse-item></div><div class=\"form-group-wrapper\"><paper-collapse-item class=\"field-group field-optional_args-group\" header=\"Optional Input\"><paper-input label=\"n_permutations\" name=\"optional_args\" required=\"required\" value=\"50\"></paper-input><paper-input label=\"max_n_features\" name=\"optional_args\" required=\"required\" value=\"30\"></paper-input><paper-input label=\"features_ascending\" name=\"optional_args\" required=\"required\" value=\"True\"></paper-input><paper-input label=\"n_jobs\" name=\"optional_args\" required=\"required\" value=\"1\"></paper-input><paper-input label=\"n_features\" name=\"optional_args\" required=\"required\" value=\".90\"></paper-input><paper-input label=\"filepath_prefix\" name=\"optional_args\" required=\"required\" value=\"sanger_sanger_results\"></paper-input></paper-collapse-item></div><div class=\"form-group-wrapper\"><paper-collapse-item class=\"field-group field-returns-group\" header=\"Output\" opened=\"True\"><paper-input label=\"TODO: get from docstring\" name=\"returns\" required=\"required\" value=\"sanger_sign_sanger_drug\" auto-validate=\"\" error-message=\"Required!\"></paper-input></paper-collapse-item></div><button class=\"form-submit-button-wrapper\"><paper-button class=\"form-submit-button\" raised=\"\">run<iron-icon icon=\"done\"></iron-icon></paper-button></button></form></div><div class=\"widget-panel widget-panel-right\"><div class=\"task-info\">TODO: get from docstring</div><li class=\"item-info\" style=\"display: none;\"><h3>target</h3><p>TODO: get from docstring</p></li><li class=\"item-info\" style=\"display: none;\"><h3>features</h3><p>TODO: get from docstring</p></li><li class=\"item-info\" style=\"display: none;\"><h3>n_permutations</h3><p>TODO: get from docstring</p></li><li class=\"item-info\" style=\"display: none;\"><h3>max_n_features</h3><p>TODO: get from docstring</p></li><li class=\"item-info\" style=\"display: none;\"><h3>features_ascending</h3><p>TODO: get from docstring</p></li><li class=\"item-info\" style=\"display: none;\"><h3>n_jobs</h3><p>TODO: get from docstring</p></li><li class=\"item-info\" style=\"display: none;\"><h3>n_features</h3><p>TODO: get from docstring</p></li><li class=\"item-info\" style=\"display: none;\"><h3>filepath_prefix</h3><p>TODO: get from docstring</p></li><li class=\"item-info\" style=\"display: none;\"><h3>TODO: get from docstring</h3><p>TODO: get from docstring</p></li></div></paper-collapse-item></paper-material>\n",
    "<!--{\"Make Association Panel\":{\"returns\":[{\"value\":\"sanger_sign_sanger_drug\",\"label\":\"TODO: get from docstring\",\"description\":\"TODO: get from docstring\"}],\"default_args\":[],\"required_args\":[{\"name\":\"target\",\"value\":\"sanger_hNSC_G3_150_UP\",\"label\":\"target\",\"description\":\"TODO: get from docstring\"},{\"name\":\"features\",\"value\":\"sanger_drug_sensitivity\",\"label\":\"features\",\"description\":\"TODO: get from docstring\"}],\"description\":\"TODO: get from docstring\",\"function_name\":\"make_association_panel\",\"optional_args\":[{\"name\":\"n_permutations\",\"value\":\"50\",\"label\":\"n_permutations\",\"description\":\"TODO: get from docstring\"},{\"name\":\"max_n_features\",\"value\":\"30\",\"label\":\"max_n_features\",\"description\":\"TODO: get from docstring\"},{\"name\":\"features_ascending\",\"value\":\"True\",\"label\":\"features_ascending\",\"description\":\"TODO: get from docstring\"},{\"name\":\"n_jobs\",\"value\":\"1\",\"label\":\"n_jobs\",\"description\":\"TODO: get from docstring\"},{\"name\":\"n_features\",\"value\":\".90\",\"label\":\"n_features\",\"description\":\"TODO: get from docstring\"},{\"name\":\"filepath_prefix\",\"value\":\"sanger_sanger_results\",\"label\":\"filepath_prefix\",\"description\":\"TODO: get from docstring\"}],\"library_path\":\"/home/cyborg/CompBio/discover/tools/\",\"library_name\":\"ccal.computational_cancer_biology.association\"}}-->"
   ]
  },
  {
   "cell_type": "markdown",
   "metadata": {},
   "source": [
    "Here the drugs CGP-60474_B and CGP-082996_B are selectively compared to the hNSC signature."
   ]
  },
  {
   "cell_type": "code",
   "execution_count": 16,
   "metadata": {
    "collapsed": false
   },
   "outputs": [],
   "source": [
    "indices = ['CGP-082996_B','CGP-60474_B']"
   ]
  },
  {
   "cell_type": "code",
   "execution_count": 17,
   "metadata": {
    "collapsed": true
   },
   "outputs": [],
   "source": [
    "# Set directory\n",
    "results = join(DIR_RESULT, 'CGP-60474_CGP-082996_panel')"
   ]
  },
  {
   "cell_type": "code",
   "execution_count": 18,
   "metadata": {
    "collapsed": true
   },
   "outputs": [],
   "source": [
    "# Filter rows\n",
    "sanger_drug_sensitivity_selected = sanger_drug_sensitivity.ix[indices, :]"
   ]
  },
  {
   "cell_type": "code",
   "execution_count": 3,
   "metadata": {
    "collapsed": false,
    "scrolled": false
   },
   "outputs": [
    {
     "data": {
      "text/html": [
       "<!--!AUTO_EXEC-->\n",
       "<paper-material elevation=\"2\" class=\"task-widget\"><paper-collapse-item class=\"task-widget-inner\" header=\"<h1>Make summary panel</h1>\" opened=\"True\"><div class=\"widget-panel widget-panel-left\"><form is=\"iron-form\" class=\"task-widget-form\"><div class=\"form-group-wrapper\"><paper-collapse-item class=\"field-group field-required_args-group\" header=\"Input\" opened=\"True\"><paper-input label=\"target\" name=\"required_args\" required=\"required\" value=\"sanger_hNSC_G3_150_UP\" auto-validate=\"\" error-message=\"Required!\"></paper-input><paper-input label=\"features\" name=\"required_args\" required=\"required\" value=\"sanger_drug_sensitivity_selected\" auto-validate=\"\" error-message=\"Required!\"></paper-input></paper-collapse-item></div><div class=\"form-group-wrapper\"><paper-collapse-item class=\"field-group field-optional_args-group\" header=\"Optional Input\"><paper-input label=\"title\" name=\"optional_args\" required=\"required\" value=\"'GenomicsofDrugSensitivity(Sanger)'\"></paper-input><paper-input label=\"target_name\" name=\"optional_args\" required=\"required\" value=\"'hNCSsignature'\"></paper-input><paper-input label=\"filepath_prefix\" name=\"optional_args\" required=\"required\" value=\"results\"></paper-input></paper-collapse-item></div><div class=\"form-group-wrapper\"><paper-collapse-item class=\"field-group field-returns-group\" header=\"Output\" opened=\"True\"><paper-input label=\"TODO: get from docstring\" name=\"returns\" required=\"required\" value=\"selected_sanger_drugs_df\" auto-validate=\"\" error-message=\"Required!\"></paper-input></paper-collapse-item></div><button class=\"form-submit-button-wrapper\"><paper-button class=\"form-submit-button\" raised=\"\">run<iron-icon icon=\"done\"></iron-icon></paper-button></button></form></div><div class=\"widget-panel widget-panel-right\"><div class=\"task-info\">TODO: get from docstring</div><li class=\"item-info\" style=\"display: none;\"><h3>target</h3><p>TODO: get from docstring</p></li><li class=\"item-info\" style=\"display: none;\"><h3>features</h3><p>TODO: get from docstring</p></li><li class=\"item-info\" style=\"display: none;\"><h3>title</h3><p>TODO: get from docstring</p></li><li class=\"item-info\" style=\"display: none;\"><h3>target_name</h3><p>TODO: get from docstring</p></li><li class=\"item-info\" style=\"display: none;\"><h3>filepath_prefix</h3><p>TODO: get from docstring</p></li><li class=\"item-info\" style=\"display: none;\"><h3>TODO: get from docstring</h3><p>TODO: get from docstring</p></li></div></paper-collapse-item></paper-material>\n",
       "<!--{\"Make summary panel\":{\"returns\":[{\"value\":\"selected_sanger_drugs_df\",\"label\":\"TODO: get from docstring\",\"description\":\"TODO: get from docstring\"}],\"default_args\":[],\"required_args\":[{\"name\":\"target\",\"value\":\"sanger_hNSC_G3_150_UP\",\"label\":\"target\",\"description\":\"TODO: get from docstring\"},{\"name\":\"features\",\"value\":\"sanger_drug_sensitivity_selected\",\"label\":\"features\",\"description\":\"TODO: get from docstring\"}],\"description\":\"TODO: get from docstring\",\"function_name\":\"make_association_panel\",\"optional_args\":[{\"name\":\"title\",\"value\":\"'GenomicsofDrugSensitivity(Sanger)'\",\"label\":\"title\",\"description\":\"TODO: get from docstring\"},{\"name\":\"target_name\",\"value\":\"'hNCSsignature'\",\"label\":\"target_name\",\"description\":\"TODO: get from docstring\"},{\"name\":\"filepath_prefix\",\"value\":\"results\",\"label\":\"filepath_prefix\",\"description\":\"TODO: get from docstring\"}],\"library_path\":\"/home/cyborg/CompBio/discover/tools/\",\"library_name\":\"ccal.computational_cancer_biology.association\"}}-->"
      ],
      "text/plain": [
       "<IPython.core.display.HTML object>"
      ]
     },
     "metadata": {},
     "output_type": "display_data"
    }
   ],
   "source": [
    "%%HTML\n",
    "<!--!AUTO_EXEC-->\n",
    "<paper-material elevation=\"2\" class=\"task-widget\"><paper-collapse-item class=\"task-widget-inner\" header=\"<h1>Make summary panel</h1>\" opened=\"True\"><div class=\"widget-panel widget-panel-left\"><form is=\"iron-form\" class=\"task-widget-form\"><div class=\"form-group-wrapper\"><paper-collapse-item class=\"field-group field-required_args-group\" header=\"Input\" opened=\"True\"><paper-input label=\"target\" name=\"required_args\" required=\"required\" value=\"sanger_hNSC_G3_150_UP\" auto-validate=\"\" error-message=\"Required!\"></paper-input><paper-input label=\"features\" name=\"required_args\" required=\"required\" value=\"sanger_drug_sensitivity_selected\" auto-validate=\"\" error-message=\"Required!\"></paper-input></paper-collapse-item></div><div class=\"form-group-wrapper\"><paper-collapse-item class=\"field-group field-optional_args-group\" header=\"Optional Input\"><paper-input label=\"title\" name=\"optional_args\" required=\"required\" value=\"'GenomicsofDrugSensitivity(Sanger)'\"></paper-input><paper-input label=\"target_name\" name=\"optional_args\" required=\"required\" value=\"'hNCSsignature'\"></paper-input><paper-input label=\"filepath_prefix\" name=\"optional_args\" required=\"required\" value=\"results\"></paper-input></paper-collapse-item></div><div class=\"form-group-wrapper\"><paper-collapse-item class=\"field-group field-returns-group\" header=\"Output\" opened=\"True\"><paper-input label=\"TODO: get from docstring\" name=\"returns\" required=\"required\" value=\"selected_sanger_drugs_df\" auto-validate=\"\" error-message=\"Required!\"></paper-input></paper-collapse-item></div><button class=\"form-submit-button-wrapper\"><paper-button class=\"form-submit-button\" raised=\"\">run<iron-icon icon=\"done\"></iron-icon></paper-button></button></form></div><div class=\"widget-panel widget-panel-right\"><div class=\"task-info\">TODO: get from docstring</div><li class=\"item-info\" style=\"display: none;\"><h3>target</h3><p>TODO: get from docstring</p></li><li class=\"item-info\" style=\"display: none;\"><h3>features</h3><p>TODO: get from docstring</p></li><li class=\"item-info\" style=\"display: none;\"><h3>title</h3><p>TODO: get from docstring</p></li><li class=\"item-info\" style=\"display: none;\"><h3>target_name</h3><p>TODO: get from docstring</p></li><li class=\"item-info\" style=\"display: none;\"><h3>filepath_prefix</h3><p>TODO: get from docstring</p></li><li class=\"item-info\" style=\"display: none;\"><h3>TODO: get from docstring</h3><p>TODO: get from docstring</p></li></div></paper-collapse-item></paper-material>\n",
    "<!--{\"Make summary panel\":{\"returns\":[{\"value\":\"selected_sanger_drugs_df\",\"label\":\"TODO: get from docstring\",\"description\":\"TODO: get from docstring\"}],\"default_args\":[],\"required_args\":[{\"name\":\"target\",\"value\":\"sanger_hNSC_G3_150_UP\",\"label\":\"target\",\"description\":\"TODO: get from docstring\"},{\"name\":\"features\",\"value\":\"sanger_drug_sensitivity_selected\",\"label\":\"features\",\"description\":\"TODO: get from docstring\"}],\"description\":\"TODO: get from docstring\",\"function_name\":\"make_association_panel\",\"optional_args\":[{\"name\":\"title\",\"value\":\"'GenomicsofDrugSensitivity(Sanger)'\",\"label\":\"title\",\"description\":\"TODO: get from docstring\"},{\"name\":\"target_name\",\"value\":\"'hNCSsignature'\",\"label\":\"target_name\",\"description\":\"TODO: get from docstring\"},{\"name\":\"filepath_prefix\",\"value\":\"results\",\"label\":\"filepath_prefix\",\"description\":\"TODO: get from docstring\"}],\"library_path\":\"/home/cyborg/CompBio/discover/tools/\",\"library_name\":\"ccal.computational_cancer_biology.association\"}}-->"
   ]
  },
  {
   "cell_type": "markdown",
   "metadata": {},
   "source": [
    "<hr style=\"border: none; border-bottom: 1px solid #db0606;\">\n",
    "### 3.2 Compare CCLE hNSC signature to CTRP drug sensitivity "
   ]
  },
  {
   "cell_type": "code",
   "execution_count": 20,
   "metadata": {
    "collapsed": true
   },
   "outputs": [],
   "source": [
    "indices = ['alvocidib']"
   ]
  },
  {
   "cell_type": "code",
   "execution_count": 21,
   "metadata": {
    "collapsed": true
   },
   "outputs": [],
   "source": [
    "# Set directory\n",
    "results = join(DIR_RESULT, 'flavopiridol_panel')"
   ]
  },
  {
   "cell_type": "code",
   "execution_count": 22,
   "metadata": {
    "collapsed": true
   },
   "outputs": [],
   "source": [
    "# Filter rows\n",
    "ctrp_drug_sensitivity_selected = ctrp_drug_sensitivity.ix[indices, :]"
   ]
  },
  {
   "cell_type": "code",
   "execution_count": 4,
   "metadata": {
    "collapsed": false,
    "scrolled": true
   },
   "outputs": [
    {
     "data": {
      "text/html": [
       "<!--!AUTO_EXEC-->\n",
       "<paper-material elevation=\"2\" class=\"task-widget\"><paper-collapse-item class=\"task-widget-inner\" header=\"<h1>Make summary panel</h1>\" opened=\"True\"><div class=\"widget-panel widget-panel-left\"><form is=\"iron-form\" class=\"task-widget-form\"><div class=\"form-group-wrapper\"><paper-collapse-item class=\"field-group field-required_args-group\" header=\"Input\" opened=\"True\"><paper-input label=\"target\" name=\"required_args\" required=\"required\" value=\"ccle_hNSC_G3_150_UP\" auto-validate=\"\" error-message=\"Required!\"></paper-input><paper-input label=\"features\" name=\"required_args\" required=\"required\" value=\"ctrp_drug_sensitivity_selected\" auto-validate=\"\" error-message=\"Required!\"></paper-input></paper-collapse-item></div><div class=\"form-group-wrapper\"><paper-collapse-item class=\"field-group field-optional_args-group\" header=\"Optional Input\"><paper-input label=\"title\" name=\"optional_args\" required=\"required\" value=\"'TheCancerTherapeuticsResponsePortal(CTPRv2)'\"></paper-input><paper-input label=\"target_name\" name=\"optional_args\" required=\"required\" value=\"'hNCSsignature'\"></paper-input><paper-input label=\"filepath_prefix\" name=\"optional_args\" required=\"required\" value=\"results\"></paper-input></paper-collapse-item></div><div class=\"form-group-wrapper\"><paper-collapse-item class=\"field-group field-returns-group\" header=\"Output\" opened=\"True\"><paper-input label=\"TODO: get from docstring\" name=\"returns\" required=\"required\" value=\"selected_ctrp_drugs_df\" auto-validate=\"\" error-message=\"Required!\"></paper-input></paper-collapse-item></div><button class=\"form-submit-button-wrapper\"><paper-button class=\"form-submit-button\" raised=\"\">run<iron-icon icon=\"done\"></iron-icon></paper-button></button></form></div><div class=\"widget-panel widget-panel-right\"><div class=\"task-info\">TODO: get from docstring</div><li class=\"item-info\" style=\"display: none;\"><h3>target</h3><p>TODO: get from docstring</p></li><li class=\"item-info\" style=\"display: none;\"><h3>features</h3><p>TODO: get from docstring</p></li><li class=\"item-info\" style=\"display: none;\"><h3>title</h3><p>TODO: get from docstring</p></li><li class=\"item-info\" style=\"display: none;\"><h3>target_name</h3><p>TODO: get from docstring</p></li><li class=\"item-info\" style=\"display: none;\"><h3>filepath_prefix</h3><p>TODO: get from docstring</p></li><li class=\"item-info\" style=\"display: none;\"><h3>TODO: get from docstring</h3><p>TODO: get from docstring</p></li></div></paper-collapse-item></paper-material>\n",
       "<!--{\"Make summary panel\":{\"returns\":[{\"value\":\"selected_ctrp_drugs_df\",\"label\":\"TODO: get from docstring\",\"description\":\"TODO: get from docstring\"}],\"default_args\":[],\"required_args\":[{\"name\":\"target\",\"value\":\"ccle_hNSC_G3_150_UP\",\"label\":\"target\",\"description\":\"TODO: get from docstring\"},{\"name\":\"features\",\"value\":\"ctrp_drug_sensitivity_selected\",\"label\":\"features\",\"description\":\"TODO: get from docstring\"}],\"description\":\"TODO: get from docstring\",\"function_name\":\"make_association_panel\",\"optional_args\":[{\"name\":\"title\",\"value\":\"'TheCancerTherapeuticsResponsePortal(CTPRv2)'\",\"label\":\"title\",\"description\":\"TODO: get from docstring\"},{\"name\":\"target_name\",\"value\":\"'hNCSsignature'\",\"label\":\"target_name\",\"description\":\"TODO: get from docstring\"},{\"name\":\"filepath_prefix\",\"value\":\"results\",\"label\":\"filepath_prefix\",\"description\":\"TODO: get from docstring\"}],\"library_path\":\"/home/cyborg/CompBio/discover/tools/\",\"library_name\":\"ccal.computational_cancer_biology.association\"}}-->"
      ],
      "text/plain": [
       "<IPython.core.display.HTML object>"
      ]
     },
     "metadata": {},
     "output_type": "display_data"
    }
   ],
   "source": [
    "%%HTML\n",
    "<!--!AUTO_EXEC-->\n",
    "<paper-material elevation=\"2\" class=\"task-widget\"><paper-collapse-item class=\"task-widget-inner\" header=\"<h1>Make summary panel</h1>\" opened=\"True\"><div class=\"widget-panel widget-panel-left\"><form is=\"iron-form\" class=\"task-widget-form\"><div class=\"form-group-wrapper\"><paper-collapse-item class=\"field-group field-required_args-group\" header=\"Input\" opened=\"True\"><paper-input label=\"target\" name=\"required_args\" required=\"required\" value=\"ccle_hNSC_G3_150_UP\" auto-validate=\"\" error-message=\"Required!\"></paper-input><paper-input label=\"features\" name=\"required_args\" required=\"required\" value=\"ctrp_drug_sensitivity_selected\" auto-validate=\"\" error-message=\"Required!\"></paper-input></paper-collapse-item></div><div class=\"form-group-wrapper\"><paper-collapse-item class=\"field-group field-optional_args-group\" header=\"Optional Input\"><paper-input label=\"title\" name=\"optional_args\" required=\"required\" value=\"'TheCancerTherapeuticsResponsePortal(CTPRv2)'\"></paper-input><paper-input label=\"target_name\" name=\"optional_args\" required=\"required\" value=\"'hNCSsignature'\"></paper-input><paper-input label=\"filepath_prefix\" name=\"optional_args\" required=\"required\" value=\"results\"></paper-input></paper-collapse-item></div><div class=\"form-group-wrapper\"><paper-collapse-item class=\"field-group field-returns-group\" header=\"Output\" opened=\"True\"><paper-input label=\"TODO: get from docstring\" name=\"returns\" required=\"required\" value=\"selected_ctrp_drugs_df\" auto-validate=\"\" error-message=\"Required!\"></paper-input></paper-collapse-item></div><button class=\"form-submit-button-wrapper\"><paper-button class=\"form-submit-button\" raised=\"\">run<iron-icon icon=\"done\"></iron-icon></paper-button></button></form></div><div class=\"widget-panel widget-panel-right\"><div class=\"task-info\">TODO: get from docstring</div><li class=\"item-info\" style=\"display: none;\"><h3>target</h3><p>TODO: get from docstring</p></li><li class=\"item-info\" style=\"display: none;\"><h3>features</h3><p>TODO: get from docstring</p></li><li class=\"item-info\" style=\"display: none;\"><h3>title</h3><p>TODO: get from docstring</p></li><li class=\"item-info\" style=\"display: none;\"><h3>target_name</h3><p>TODO: get from docstring</p></li><li class=\"item-info\" style=\"display: none;\"><h3>filepath_prefix</h3><p>TODO: get from docstring</p></li><li class=\"item-info\" style=\"display: none;\"><h3>TODO: get from docstring</h3><p>TODO: get from docstring</p></li></div></paper-collapse-item></paper-material>\n",
    "<!--{\"Make summary panel\":{\"returns\":[{\"value\":\"selected_ctrp_drugs_df\",\"label\":\"TODO: get from docstring\",\"description\":\"TODO: get from docstring\"}],\"default_args\":[],\"required_args\":[{\"name\":\"target\",\"value\":\"ccle_hNSC_G3_150_UP\",\"label\":\"target\",\"description\":\"TODO: get from docstring\"},{\"name\":\"features\",\"value\":\"ctrp_drug_sensitivity_selected\",\"label\":\"features\",\"description\":\"TODO: get from docstring\"}],\"description\":\"TODO: get from docstring\",\"function_name\":\"make_association_panel\",\"optional_args\":[{\"name\":\"title\",\"value\":\"'TheCancerTherapeuticsResponsePortal(CTPRv2)'\",\"label\":\"title\",\"description\":\"TODO: get from docstring\"},{\"name\":\"target_name\",\"value\":\"'hNCSsignature'\",\"label\":\"target_name\",\"description\":\"TODO: get from docstring\"},{\"name\":\"filepath_prefix\",\"value\":\"results\",\"label\":\"filepath_prefix\",\"description\":\"TODO: get from docstring\"}],\"library_path\":\"/home/cyborg/CompBio/discover/tools/\",\"library_name\":\"ccal.computational_cancer_biology.association\"}}-->"
   ]
  },
  {
   "cell_type": "markdown",
   "metadata": {},
   "source": [
    "<hr style=\"border: none; border-bottom: 1px solid #db0606;\">\n",
    "### 3.3 Compare CCLE hNSC signature to CCLE drug sensitivity "
   ]
  },
  {
   "cell_type": "code",
   "execution_count": 24,
   "metadata": {
    "collapsed": true
   },
   "outputs": [],
   "source": [
    "indices = ['PD-0332991']"
   ]
  },
  {
   "cell_type": "code",
   "execution_count": 25,
   "metadata": {
    "collapsed": true
   },
   "outputs": [],
   "source": [
    "# Set directory\n",
    "results = join(DIR_RESULT, 'palbociclib_panel')"
   ]
  },
  {
   "cell_type": "code",
   "execution_count": 26,
   "metadata": {
    "collapsed": true
   },
   "outputs": [],
   "source": [
    "# Filter rows\n",
    "ccle_drug_sensitivity_selected = ccle_drug_sensitivity.ix[indices, :]"
   ]
  },
  {
   "cell_type": "code",
   "execution_count": 5,
   "metadata": {
    "collapsed": false
   },
   "outputs": [
    {
     "data": {
      "text/html": [
       "<!--!AUTO_EXEC-->\n",
       "<paper-material elevation=\"2\" class=\"task-widget\"><paper-collapse-item class=\"task-widget-inner\" header=\"<h1>Make summary panel</h1>\" opened=\"True\"><div class=\"widget-panel widget-panel-left\"><form is=\"iron-form\" class=\"task-widget-form\"><div class=\"form-group-wrapper\"><paper-collapse-item class=\"field-group field-required_args-group\" header=\"Input\" opened=\"True\"><paper-input label=\"target\" name=\"required_args\" required=\"required\" value=\"ccle_hNSC_G3_150_UP\" auto-validate=\"\" error-message=\"Required!\"></paper-input><paper-input label=\"features\" name=\"required_args\" required=\"required\" value=\"ccle_drug_sensitivity_selected\" auto-validate=\"\" error-message=\"Required!\"></paper-input></paper-collapse-item></div><div class=\"form-group-wrapper\"><paper-collapse-item class=\"field-group field-optional_args-group\" header=\"Optional Input\"><paper-input label=\"title\" name=\"optional_args\" required=\"required\" value=\"'PharmacologicalProfilingDrugData(CCLE)'\"></paper-input><paper-input label=\"target_name\" name=\"optional_args\" required=\"required\" value=\"'hNCSsignature'\"></paper-input><paper-input label=\"filepath_prefix\" name=\"optional_args\" required=\"required\" value=\"results\"></paper-input></paper-collapse-item></div><div class=\"form-group-wrapper\"><paper-collapse-item class=\"field-group field-returns-group\" header=\"Output\" opened=\"True\"><paper-input label=\"TODO: get from docstring\" name=\"returns\" required=\"required\" value=\"selected_ccle_drugs_df\" auto-validate=\"\" error-message=\"Required!\"></paper-input></paper-collapse-item></div><button class=\"form-submit-button-wrapper\"><paper-button class=\"form-submit-button\" raised=\"\">run<iron-icon icon=\"done\"></iron-icon></paper-button></button></form></div><div class=\"widget-panel widget-panel-right\"><div class=\"task-info\">TODO: get from docstring</div><li class=\"item-info\" style=\"display: none;\"><h3>target</h3><p>TODO: get from docstring</p></li><li class=\"item-info\" style=\"display: none;\"><h3>features</h3><p>TODO: get from docstring</p></li><li class=\"item-info\" style=\"display: none;\"><h3>title</h3><p>TODO: get from docstring</p></li><li class=\"item-info\" style=\"display: none;\"><h3>target_name</h3><p>TODO: get from docstring</p></li><li class=\"item-info\" style=\"display: none;\"><h3>filepath_prefix</h3><p>TODO: get from docstring</p></li><li class=\"item-info\" style=\"display: none;\"><h3>TODO: get from docstring</h3><p>TODO: get from docstring</p></li></div></paper-collapse-item></paper-material>\n",
       "<!--{\"Make summary panel\":{\"returns\":[{\"value\":\"selected_ccle_drugs_df\",\"label\":\"TODO: get from docstring\",\"description\":\"TODO: get from docstring\"}],\"default_args\":[],\"required_args\":[{\"name\":\"target\",\"value\":\"ccle_hNSC_G3_150_UP\",\"label\":\"target\",\"description\":\"TODO: get from docstring\"},{\"name\":\"features\",\"value\":\"ccle_drug_sensitivity_selected\",\"label\":\"features\",\"description\":\"TODO: get from docstring\"}],\"description\":\"TODO: get from docstring\",\"function_name\":\"make_association_panel\",\"optional_args\":[{\"name\":\"title\",\"value\":\"'PharmacologicalProfilingDrugData(CCLE)'\",\"label\":\"title\",\"description\":\"TODO: get from docstring\"},{\"name\":\"target_name\",\"value\":\"'hNCSsignature'\",\"label\":\"target_name\",\"description\":\"TODO: get from docstring\"},{\"name\":\"filepath_prefix\",\"value\":\"results\",\"label\":\"filepath_prefix\",\"description\":\"TODO: get from docstring\"}],\"library_path\":\"/home/cyborg/CompBio/discover/tools/\",\"library_name\":\"ccal.computational_cancer_biology.association\"}}-->"
      ],
      "text/plain": [
       "<IPython.core.display.HTML object>"
      ]
     },
     "metadata": {},
     "output_type": "display_data"
    }
   ],
   "source": [
    "%%HTML\n",
    "<!--!AUTO_EXEC-->\n",
    "<paper-material elevation=\"2\" class=\"task-widget\"><paper-collapse-item class=\"task-widget-inner\" header=\"<h1>Make summary panel</h1>\" opened=\"True\"><div class=\"widget-panel widget-panel-left\"><form is=\"iron-form\" class=\"task-widget-form\"><div class=\"form-group-wrapper\"><paper-collapse-item class=\"field-group field-required_args-group\" header=\"Input\" opened=\"True\"><paper-input label=\"target\" name=\"required_args\" required=\"required\" value=\"ccle_hNSC_G3_150_UP\" auto-validate=\"\" error-message=\"Required!\"></paper-input><paper-input label=\"features\" name=\"required_args\" required=\"required\" value=\"ccle_drug_sensitivity_selected\" auto-validate=\"\" error-message=\"Required!\"></paper-input></paper-collapse-item></div><div class=\"form-group-wrapper\"><paper-collapse-item class=\"field-group field-optional_args-group\" header=\"Optional Input\"><paper-input label=\"title\" name=\"optional_args\" required=\"required\" value=\"'PharmacologicalProfilingDrugData(CCLE)'\"></paper-input><paper-input label=\"target_name\" name=\"optional_args\" required=\"required\" value=\"'hNCSsignature'\"></paper-input><paper-input label=\"filepath_prefix\" name=\"optional_args\" required=\"required\" value=\"results\"></paper-input></paper-collapse-item></div><div class=\"form-group-wrapper\"><paper-collapse-item class=\"field-group field-returns-group\" header=\"Output\" opened=\"True\"><paper-input label=\"TODO: get from docstring\" name=\"returns\" required=\"required\" value=\"selected_ccle_drugs_df\" auto-validate=\"\" error-message=\"Required!\"></paper-input></paper-collapse-item></div><button class=\"form-submit-button-wrapper\"><paper-button class=\"form-submit-button\" raised=\"\">run<iron-icon icon=\"done\"></iron-icon></paper-button></button></form></div><div class=\"widget-panel widget-panel-right\"><div class=\"task-info\">TODO: get from docstring</div><li class=\"item-info\" style=\"display: none;\"><h3>target</h3><p>TODO: get from docstring</p></li><li class=\"item-info\" style=\"display: none;\"><h3>features</h3><p>TODO: get from docstring</p></li><li class=\"item-info\" style=\"display: none;\"><h3>title</h3><p>TODO: get from docstring</p></li><li class=\"item-info\" style=\"display: none;\"><h3>target_name</h3><p>TODO: get from docstring</p></li><li class=\"item-info\" style=\"display: none;\"><h3>filepath_prefix</h3><p>TODO: get from docstring</p></li><li class=\"item-info\" style=\"display: none;\"><h3>TODO: get from docstring</h3><p>TODO: get from docstring</p></li></div></paper-collapse-item></paper-material>\n",
    "<!--{\"Make summary panel\":{\"returns\":[{\"value\":\"selected_ccle_drugs_df\",\"label\":\"TODO: get from docstring\",\"description\":\"TODO: get from docstring\"}],\"default_args\":[],\"required_args\":[{\"name\":\"target\",\"value\":\"ccle_hNSC_G3_150_UP\",\"label\":\"target\",\"description\":\"TODO: get from docstring\"},{\"name\":\"features\",\"value\":\"ccle_drug_sensitivity_selected\",\"label\":\"features\",\"description\":\"TODO: get from docstring\"}],\"description\":\"TODO: get from docstring\",\"function_name\":\"make_association_panel\",\"optional_args\":[{\"name\":\"title\",\"value\":\"'PharmacologicalProfilingDrugData(CCLE)'\",\"label\":\"title\",\"description\":\"TODO: get from docstring\"},{\"name\":\"target_name\",\"value\":\"'hNCSsignature'\",\"label\":\"target_name\",\"description\":\"TODO: get from docstring\"},{\"name\":\"filepath_prefix\",\"value\":\"results\",\"label\":\"filepath_prefix\",\"description\":\"TODO: get from docstring\"}],\"library_path\":\"/home/cyborg/CompBio/discover/tools/\",\"library_name\":\"ccal.computational_cancer_biology.association\"}}-->"
   ]
  },
  {
   "cell_type": "markdown",
   "metadata": {},
   "source": [
    "<img src=\"../media/end_banner.jpg\" width=400 height=225>"
   ]
  }
 ],
 "metadata": {
  "anaconda-cloud": {},
  "kernelspec": {
   "display_name": "Python 3",
   "language": "python",
   "name": "python3"
  },
  "language_info": {
   "codemirror_mode": {
    "name": "ipython",
    "version": 3
   },
   "file_extension": ".py",
   "mimetype": "text/x-python",
   "name": "python",
   "nbconvert_exporter": "python",
   "pygments_lexer": "ipython3",
   "version": "3.5.2"
  }
 },
 "nbformat": 4,
 "nbformat_minor": 0
}
